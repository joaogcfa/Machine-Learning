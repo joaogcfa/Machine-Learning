{
 "cells": [
  {
   "cell_type": "markdown",
   "metadata": {},
   "source": [
    "**Nome**:"
   ]
  },
  {
   "cell_type": "markdown",
   "metadata": {},
   "source": [
    "# Parte 1: conceitos (6 pts)"
   ]
  },
  {
   "cell_type": "markdown",
   "metadata": {},
   "source": [
    "Vemos abaixo uma seleção de tópicos em Machine Learning e uma seleção de interlocutores. Escolha 3 tópicos, 3 interlocutores, e a associação 1-para-1 entre tópicos e interlocutores. Explique os tópicos escolhidos para os interlocutores correspondentes. "
   ]
  },
  {
   "cell_type": "markdown",
   "metadata": {},
   "source": [
    "Interlocutores:\n",
    "\n",
    "- Uma criança de 12 anos bem interessada em ciências exatas: sabe aritmética, tem noções básicas de geometria\n",
    "\n",
    "- Um colega no terceiro semestre do curso de Engenharia: sabe cálculo multivariado, estatística, programação\n",
    "\n",
    "- Um professor de Engenharia: domina cálculo multivariado, estatística, programação. Quer conhecer mais a fundo.\n",
    "\n",
    "- Um professor de GDE (sabe matemática de colegial muito bem): tem se mantido a par da evolução do machine learning na sociedade, mas não conhece os princípios matemáticos envolvidos.\n",
    "\n",
    "- Um dono de restaurante (sabe matemática do ensino básico e algo do colegial – eu sei que alguns sabem muito mais, mas precisamos definir a persona...): tem um bom feeling para negócios."
   ]
  },
  {
   "cell_type": "markdown",
   "metadata": {},
   "source": [
    "Tópicos:\n",
    "\n",
    "- Riscos do machine learning\n",
    "- Regressão linear\n",
    "- Validação cruzada\n",
    "- Support vector machines\n",
    "- Gradient descent\n",
    "- Overfitting versus underfitting\n",
    "- Regularização\n",
    "- Classificação versus regressão\n",
    "- A importancia da análise exploratória"
   ]
  },
  {
   "cell_type": "markdown",
   "metadata": {},
   "source": [
    "Rubrica de avaliação por par conceito-interlocutor:\n",
    "\n",
    "I: Não fez, ou escreveu coisas sem sentido.\n",
    "\n",
    "D: Usou termos técnicos e matemática não disponível ao interlocutor. Faltam partes fundamentais do conceito. Não construiu uma narrativa de interesse ao interlocutor.\n",
    "\n",
    "C: Construiu uma explicação correta da mecânica do conceito, sem uma intuição de por que funciona. Faltam ideias importantes, mas não essenciais do conceito. Não construiu uma narrativa de interesse ao interlocutor.\n",
    "\n",
    "B: Construiu uma explicação da mecânica e da intuição por trás do modelo. Faltam ideias importantes, mas não essenciais do conceito, ou tem excesso de ideias não tão centrais à explicação (vulgo “encheu linguiça”).\n",
    "\n",
    "A: Construiu uma explicação bem completa e enxuta da mecânica e da intuição por trás do conceito. Trouxe uma narrativa que interesse ao interlocutor."
   ]
  },
  {
   "cell_type": "markdown",
   "metadata": {
    "tags": []
   },
   "source": [
    "# Parte 2: Projeto (4 pts)"
   ]
  },
  {
   "cell_type": "code",
   "execution_count": 1,
   "metadata": {},
   "outputs": [],
   "source": [
    "%matplotlib inline\n",
    "import numpy as np\n",
    "import pandas as pd\n",
    "import matplotlib.pyplot as plt\n",
    "\n",
    "RANDOM_SEED = 42\n",
    "np.random.seed(RANDOM_SEED)"
   ]
  },
  {
   "cell_type": "code",
   "execution_count": 2,
   "metadata": {},
   "outputs": [],
   "source": [
    "df = pd.read_csv('states_all.csv')"
   ]
  },
  {
   "cell_type": "markdown",
   "metadata": {},
   "source": [
    "# Problema: prever desempenho escolar\n",
    "\n",
    "O dataset foi obtido do Kaggle (https://www.kaggle.com/noriuk/us-education-datasets-unification-project). Informação relevante a respeito do dataset pode ser vista abaixo. Seu objetivo é prever o desempenho dos alunos em matemática no oitavo ano de ensino funcamental (AVG_MATH_8_SCORE).\n",
    "\n",
    "\n",
    "# Rubrica de avaliação:\n",
    "\n",
    "- I: não fez o básico\n",
    "\n",
    "- D: Análise exploratória e limpeza de dados, inicio da construção do modelo preditivo.\n",
    "\n",
    "- C: Atingiu conceito D, e construiu modelo preditivo simples, com métrica de desempenho apropriada.\n",
    "\n",
    "- B: Atingiu conceito D, e construiu mais de um modelo preditivo (sejam modelos diferentes, seja o mesmo modelo com diferentes hiperparâmetros) usando ferramentas apropriadas para a seleção de modelos (e. g. validação cruzada)\n",
    "\n",
    "- A: Demonstrou domínio de técnicas de machine learning para bem analisar o conjunto de dados. Análise inclui determinação de importância das variáveis e conclusão a respeito dos resultados obtidos, com formulação de hipóteses de investigação futura.\n",
    "\n",
    "----------------------------\n",
    "\n",
    "## Context\n",
    "\n",
    "This dataset is designed to bring together multiple facets of U.S. education data into one convenient CSV (states_all.csv).\n",
    "\n",
    "## Column Breakdown\n",
    "\n",
    "### Identification\n",
    "\n",
    "- PRIMARY_KEY: A combination of the year and state name.\n",
    "\n",
    "- YEAR\n",
    "\n",
    "- STATE\n",
    "\n",
    "### Enrollment\n",
    "\n",
    "A breakdown of students enrolled in schools by school year.\n",
    "\n",
    "- GRADES_PK: Number of students in Pre-Kindergarten education.\n",
    "\n",
    "- GRADES_4: Number of students in fourth grade.\n",
    "\n",
    "- GRADES_8: Number of students in eighth grade.\n",
    "\n",
    "- GRADES_12: Number of students in twelfth grade.\n",
    "\n",
    "- GRADES_1_8: Number of students in the first through eighth grades.\n",
    "\n",
    "- GRADES 9_12: Number of students in the ninth through twelfth grades.\n",
    "\n",
    "- GRADES_KG_12: Number of students in Kindergarten through twelfth grade.\n",
    "\n",
    "- GRADES_ALL: The count of all students in the state. Comparable to ENROLL in the financial data (which is the U.S. Census Bureau's estimate for students in the state).\n",
    "\n",
    "### Financials\n",
    "\n",
    "A breakdown of states by revenue and expenditure.\n",
    "\n",
    "- ENROLL: The U.S. Census Bureau's count for students in the state. Should be comparable to GRADES_ALL (which is the NCES's estimate for students in the state).\n",
    "\n",
    "- TOTAL REVENUE: The total amount of revenue for the state.\n",
    "\n",
    "- FEDERAL_REVENUE\n",
    "\n",
    "- STATE_REVENUE\n",
    "\n",
    "- LOCAL_REVENUE\n",
    "\n",
    "- TOTAL_EXPENDITURE: The total expenditure for the state.\n",
    "\n",
    "- INSTRUCTION_EXPENDITURE\n",
    "\n",
    "- SUPPORT_SERVICES_EXPENDITURE\n",
    "\n",
    "- CAPITAL_OUTLAY_EXPENDITURE\n",
    "\n",
    "- OTHER_EXPENDITURE\n",
    "\n",
    "### Academic Achievement\n",
    "\n",
    "A breakdown of student performance as assessed by the corresponding exams (math and reading, grades 4 and 8).\n",
    "\n",
    "- AVG_MATH_4_SCORE: The state's average score for fourth graders taking the NAEP math exam.\n",
    "\n",
    "- AVG_MATH_8_SCORE: The state's average score for eight graders taking the NAEP math exam.\n",
    "\n",
    "- AVG_READING_4_SCORE: The state's average score for fourth graders taking the NAEP reading exam.\n",
    "\n",
    "- AVG_READING_8_SCORE: The state's average score for eighth graders taking the NAEP reading exam."
   ]
  },
  {
   "cell_type": "code",
   "execution_count": null,
   "metadata": {},
   "outputs": [],
   "source": []
  }
 ],
 "metadata": {
  "kernelspec": {
   "display_name": "Python 3",
   "language": "python",
   "name": "python3"
  },
  "language_info": {
   "codemirror_mode": {
    "name": "ipython",
    "version": 3
   },
   "file_extension": ".py",
   "mimetype": "text/x-python",
   "name": "python",
   "nbconvert_exporter": "python",
   "pygments_lexer": "ipython3",
   "version": "3.8.8"
  }
 },
 "nbformat": 4,
 "nbformat_minor": 4
}
