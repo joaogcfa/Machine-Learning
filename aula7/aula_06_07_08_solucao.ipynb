{
 "cells": [
  {
   "cell_type": "markdown",
   "metadata": {},
   "source": [
    "Este material é um mix de material próprio, e material adaptado do livro texto da disciplina e do repositório do autor do livro (https://github.com/ageron/handson-ml)\n",
    "\n",
    "Material de referência: livro do Géron, capítulo 4"
   ]
  },
  {
   "cell_type": "markdown",
   "metadata": {},
   "source": [
    "# Modelos lineares"
   ]
  },
  {
   "cell_type": "markdown",
   "metadata": {},
   "source": [
    "Até o momento vimos o processo de construção de uma solução de machine learning:\n",
    "\n",
    "- Aquisição e preparo dos dados\n",
    "- Definição da métrica de desempenho\n",
    "- Separação em conjuntos de treinamento e teste\n",
    "- Investigação dos dados\n",
    "- Escolha de modelo:\n",
    "    - Avaliação de vários modelos usando validação cruzada\n",
    "    - Comparação de métricas de desempenho\n",
    "    - Ajuste de hiperparâmetros\n",
    "- Treinamento final\n",
    "- Teste final\n",
    "- Etapas de producão\n",
    "    - Relatório final\n",
    "    - Operacionalização do modelo em produção\n",
    "\n",
    "Porém neste processo todo nossos modelos eram \"caixas pretas\", não conhecemos nada sobre como os modelos funcionam!\n",
    "\n",
    "Nesta aula vamos começar a investigar os modelos lineares: o que são, e como treina-los. Vamos aprender sobre regressão linear, algoritmos de treinamento, regressão polinomial, overfitting versus underfitting. Na aula seguinte vamos discutir o *tradeoff bias/variance*, estratégias de regularização, regressão logística e softmax."
   ]
  },
  {
   "cell_type": "markdown",
   "metadata": {},
   "source": [
    "**Atividade:**\n",
    "\n",
    "Sem olhar no material de suporte, liste no papel os passos fundamentais de um projeto de machine learning. Vocë tem que conhecer isso de memória!"
   ]
  },
  {
   "cell_type": "markdown",
   "metadata": {},
   "source": [
    "**R**:\n",
    "\n",
    "- Aquisição dos dados.\n",
    "\n",
    "- Leitura e separação treinamento/teste\n",
    "\n",
    "- Análise exploratória\n",
    "\n",
    "- Pré-processamento\n",
    "\n",
    "- Construção de modelos\n",
    "\n",
    "- Separação de dados de treinamento em um novo conjunto de treinamento e um de validação\n",
    "\n",
    "- Treinamento\n",
    "\n",
    "- Validação, escolha do melhor modelo\n",
    "\n",
    "- Teste e análise de erros\n",
    "\n",
    "- Decisão sobre usar o modelo em produção ou não\n",
    "\n",
    "- Treinamento final com o conjunto completo de dados\n",
    "\n",
    "- Deploy"
   ]
  },
  {
   "cell_type": "markdown",
   "metadata": {},
   "source": [
    "Vamos inicializar algumas bibliotecas padrão de nosso trabalho:"
   ]
  },
  {
   "cell_type": "code",
   "execution_count": 1,
   "metadata": {},
   "outputs": [],
   "source": [
    "%matplotlib inline\n",
    "import matplotlib.pyplot as plt\n",
    "import numpy as np\n",
    "\n",
    "RAND_SEED = 42\n",
    "\n",
    "np.random.seed(RAND_SEED)"
   ]
  },
  {
   "cell_type": "markdown",
   "metadata": {
    "tags": []
   },
   "source": [
    "# Revisão"
   ]
  },
  {
   "cell_type": "markdown",
   "metadata": {
    "tags": []
   },
   "source": [
    "## Modelo"
   ]
  },
  {
   "cell_type": "markdown",
   "metadata": {
    "tags": []
   },
   "source": [
    "Em todo problema de machine learning uma amostra de entrada é um vetor \n",
    "\n",
    "$$\\mathbf{x} = (x_1, x_2, \\cdots, x_n) \\in \\mathbb{R}^{n}$$\n",
    "\n",
    "de $n$ valores (características ou *features*) reais. (Valores categóricos tem que ser convertidos em valores reais usando codificação *one-hot*.)\n",
    "\n",
    "Em notação matricial, os vetores são matrizes-coluna:\n",
    "\n",
    "$$\n",
    "\\mathbf{x} = \\left[\n",
    "\\begin{matrix}\n",
    "x_1 \\\\\n",
    "x_2 \\\\\n",
    "\\vdots \\\\\n",
    "x_n\n",
    "\\end{matrix}\n",
    "\\right]\n",
    "\\in \\mathbb{R}^{n \\times 1}\n",
    "$$\n",
    "\n",
    "Vamos trabalhar com as duas notações (vetores e matrizes-coluna) de modo intercambiável, e que ficará evidente no contexto de uso.\n",
    "\n",
    "Uma amostra de saída é um valor que se supõe depender da entrada. Se o valor de saída é contínuo temos um problema de **regressão**, e se o valor é categórico (trata-se de uma classe ou categoria) temos um problema de **classificação**.\n",
    "\n",
    "Um modelo de machine learning é uma função que permite estimar o valor de saída para uma dada amostra de entrada. Esta função depende de **parâmetros** $\\mathbf{\\theta}$, que representam os \"ajustes\" desta função. Ou seja:\n",
    "\n",
    "$$y_{\\text{estimado}} = \\hat{y} = h_{\\mathbf{\\theta}}\\left(\\mathbf{x}\\right)$$"
   ]
  },
  {
   "cell_type": "markdown",
   "metadata": {},
   "source": [
    "## Erro"
   ]
  },
  {
   "cell_type": "markdown",
   "metadata": {},
   "source": [
    "O objetivo principal em um projeto de machine learning é encontrar um modelo que produza boas estimativas, ou seja, estimativas que se aproximem dos valores reais. *Treinamento* é ajustar os parâmetros $\\mathbf{\\theta}$ para conseguir **em geral** melhores estimativas. (Ou seja, não é garantido que acerta em todos os casos, mas tenta estar *quase sempre próximo*.)\n",
    "\n",
    "Uma estimativa é boa se o **erro** entre a estimativa e o valor real é baixo. A definição do erro depende do problema em questão. Se for uma regressão, então uma medida razoável de erro para uma dada amostra é a diferença entre o valor real e o valor estimado:\n",
    "\n",
    "$$\\text{erro}\\left(\\mathbf{x}, y_{real}, \\mathbf{\\theta} \\right) = y_{\\text{estimado}} - y_{\\text{real}} = h_{\\mathbf{\\theta}}\\left(\\mathbf{x}\\right) - y_{\\text{real}}$$\n",
    "\n",
    "Se desejamos uma métrica positiva de erro, podemos adotar:\n",
    "\n",
    "- o valor absoluto do erro: $\\left| \\,\\text{erro}\\left(\\mathbf{x}, y_{real}, \\mathbf{\\theta} \\right) \\,\\right|$, ou \n",
    "- o valor quadrático do erro: $\\text{erro}\\left(\\mathbf{x}, y_{real}, \\mathbf{\\theta} \\right)^2$\n",
    "\n",
    "Se for um problema de classificação, então o erro pode ser simplesmente o resultado da comparação entre a classe real e a classe estimada. "
   ]
  },
  {
   "cell_type": "markdown",
   "metadata": {},
   "source": [
    "## Erro sobre um conjunto de amostras"
   ]
  },
  {
   "cell_type": "markdown",
   "metadata": {},
   "source": [
    "Será que um modelo é bom? Uma forma de responder esta questão é avaliar o erro médio do classificador sobre um conjunto de exemplos. \n",
    "\n",
    "Para ilustrar essa ideia, vamos considerar um problema de regressão. Seja $\\left(\\mathbf{x}^{(1)}, \\mathbf{x}^{(2)}, \\cdots, \\mathbf{x}^{(m)}\\right)$ uma lista de $m$ amostras, e $\\left(y_{\\text{real}}^{(1)}, y_{\\text{real}}^{(2)}, \\cdots, y_{\\text{real}}^{(m)}\\right)$ os valores dependentes correspondentes.\n",
    "\n",
    "(Lembrando: $\\mathbf{x}^{(i)} \\in \\mathbb{R}^{n \\times 1}$ são matrizes-coluna em notação matricial, e $y_{\\text{real}}^{(i)} \\in \\mathbb{R}$ são valores reais.)\n",
    "\n",
    "Vamos representar essa informação na forma de uma matriz $\\mathbf{X}$ para as amostras e um vetor $\\mathbf{y}_{\\text{real}}$ para os valores dependentes, ou seja:\n",
    "\n",
    "$$\n",
    "\\mathbf{X} = \\left[\n",
    "\\begin{matrix} \n",
    "\\left(\\mathbf{x}^{(1)}\\right)^{T} \\\\\n",
    "\\left(\\mathbf{x}^{(2)}\\right)^{T} \\\\\n",
    "\\vdots \\\\\n",
    "\\left(\\mathbf{x}^{(m)}\\right)^{T} \\\\\n",
    "\\end{matrix}\n",
    "\\right]\n",
    "\\  \\text{,} \\quad\n",
    "\\mathbf{y}_{\\text{real}} = \\left[\n",
    "\\begin{matrix}\n",
    "y_{\\text{real}}^{(1)} \\\\\n",
    "y_{\\text{real}}^{(1)} \\\\\n",
    "\\vdots \\\\\n",
    "y_{\\text{real}}^{(1)} \\\\\n",
    "\\end{matrix}\n",
    "\\right]\n",
    "$$\n",
    "\n",
    "O erro quadrático médio é (surpresa!) a média do erro quadrático sobre o conjunto de amostras:\n",
    "\n",
    "$$\n",
    "\\varepsilon^2\\left(\\mathbf{X}, \\mathbf{y}_{\\text{real}}, \\mathbf{\\theta}\\right) = \n",
    "\\frac{1}{m} \\sum_{i=1}^{m} \\left(h_{\\mathbf{\\theta}}\\left(\\mathbf{x}^{(i)}\\right) - y_{\\text{real}}^{(i)}\\right)^2\n",
    "$$\n",
    "\n",
    "É comum usarmos a raiz quadrada de $\\varepsilon^2\\left(\\mathbf{X}, \\mathbf{y}_{\\text{real}}, \\mathbf{\\theta}\\right)$, para que o erro esteja descrito nas mesmas unidades de medida da variável dependente. Obtemos então a medida de erro médio conhecida como RMSE (*Root Mean Squared Error*), muito usada em problemas de regressão.\n",
    "\n",
    "$$\n",
    "\\text{RMSE}\\left(\\mathbf{X}, \\mathbf{y}_{\\text{real}}, \\mathbf{\\theta}\\right) \n",
    "= \n",
    "\\sqrt{\\varepsilon^2\\left(\\mathbf{X}, \\mathbf{y}_{\\text{real}}, \\mathbf{\\theta}\\right)}\n",
    "=\n",
    "\\sqrt{\n",
    "    \\frac{1}{m} \n",
    "    \\sum_{i=1}^{m} \n",
    "        \\left(h_{\\mathbf{\\theta}}\\left(\\mathbf{x}^{(i)}\\right) - y_{\\text{real}}^{(i)}\\right)^2\n",
    "}\n",
    "$$"
   ]
  },
  {
   "cell_type": "markdown",
   "metadata": {},
   "source": [
    "## Treinamento"
   ]
  },
  {
   "cell_type": "markdown",
   "metadata": {},
   "source": [
    "Treinar um modelo é achar os parâmetros do modelo que minimizam o erro médio deste em um conjunto de amostras de treinamento. Por exemplo, para o problema de regressão e usando RMSE como métrica de desempenho, temos matematicamente:\n",
    "\n",
    "$$\n",
    "\\mathbf{\\theta}_{\\text{opt}} = \\text{arg min}_{\\mathbf{\\theta}}\\left\\{\\text{RMSE}\\left(\\mathbf{X}_{\\text{train}}, \\mathbf{y}_{\\text{train}}, \\mathbf{\\theta}\\right)\\right\\}\n",
    "$$\n",
    "\n",
    "Para procurar $\\mathbf{\\theta}_{\\text{opt}}$ temos que aplicar um **algoritmo de treinamento** ao nosso modelo e nossas amostras de treinamento. Para cada modelo e métrica de desempenho existe um algoritmo de treinamento. Alguns algoritmos de treinamento são versáteis, e são aplicáveis a vários tipos de modelo - por exemplo, o *método do máximo declive* (**gradient descent**).\n",
    "\n",
    "Em termos de programação temos o seguinte: criamos um *objeto* que representa o nosso modelo, e usamos um método (e.g. *fit*) para iniciar o treinamento.\n",
    "\n",
    "$$\\text{modelo} = \\text{Modelo}()$$\n",
    "\n",
    "$$\\mathbf{\\theta}_{\\text{opt}} = \\text{modelo.fit}(\\mathbf{X}_{\\text{train}}, \\mathbf{y}_{\\text{train}})$$\n",
    "\n",
    "Existem parâmetros que não são ajustáveis neste processo, e seus valores devem ser passados para o algoritmo de treinamento. Por exemplo: número máximo de iterações do método de treinamento, valor do parâmetro de regularização, etc. Estes parâmetros extras sao chamados de **hiperparâmetros**. Portanto, é mais correto escrever a expressão acima como:\n",
    "\n",
    "$$\\text{modelo} = \\text{Modelo}(\\mathbf{\\theta}_{\\text{hiper}})$$\n",
    "\n",
    "$$\\mathbf{\\theta}_{\\text{opt}} = \\text{modelo.fit}(\\mathbf{X}_{\\text{train}}, \\mathbf{y}_{\\text{train}})$$"
   ]
  },
  {
   "cell_type": "markdown",
   "metadata": {},
   "source": [
    "## Usando o modelo treinado para fazer predições"
   ]
  },
  {
   "cell_type": "markdown",
   "metadata": {},
   "source": [
    "Finalmente, quando temos o modelo treinado (ou seja, encontramos os parâmetros ótimos $\\mathbf{\\theta}$), podemos usá-lo para fazer predições: seja $\\mathbf{x}_{\\text{novo}}$ uma nova amostra, então a predição $\\hat{y}$ do modelo é calculada como:\n",
    "\n",
    "$$\\hat{y} = h_{\\mathbf{\\theta}_{\\text{opt}}; \\mathbf{\\theta}_{\\text{hiper}}}\\left(\\mathbf{x}_{\\text{novo}}\\right)$$\n",
    "\n",
    "Ou, em pseudo-código:\n",
    "\n",
    "$$\\text{modelo} = \\text{Modelo}(\\mathbf{\\theta}_{\\text{hiper}})$$\n",
    "\n",
    "$$\\mathbf{\\theta}_{\\text{opt}} = \\text{modelo.fit}(\\mathbf{X}_{\\text{train}}, \\mathbf{y}_{\\text{train}})$$\n",
    "\n",
    "$$\\hat{y} = \\text{modelo.predict}(\\mathbf{x}_{\\text{novo}})$$"
   ]
  },
  {
   "cell_type": "markdown",
   "metadata": {},
   "source": [
    "**Atividade:** \n",
    "\n",
    "Isto que foi apresentado é a essência do machine learning para classificação e regressão. Tente explicar, com a formulação matemática adequada, os seguintes conceitos:\n",
    "\n",
    "- Amostra\n",
    "\n",
    "- Modelo\n",
    "\n",
    "- RMSE\n",
    "\n",
    "- Treinamento\n",
    "\n",
    "- Predição\n",
    "\n",
    "O objetivo é conseguir explicar e escrever as fórmulas correspondentes SEM PRECISAR OLHAR NO MATERIAL DE SUPORTE. Estude o material de suporte o quanto quiser, feche o notebook, e responda a atividade no papel."
   ]
  },
  {
   "cell_type": "markdown",
   "metadata": {},
   "source": [
    "**R**:\n",
    "\n",
    "- Amostra: em *machine learning* costumamos chamar de amostra a um exemplo que vamos usar para desenvolver nosso modelo. ATENÇÃO: em estatística o termo *amostra* significa o conjunto completo de exemplos, e um exemplo em particular é chamado de *observação*.\n",
    "\n",
    "- Modelo: uma função que tenta construir o valor da variável dependente à partir dos valores das variáveis independentes e de parâmetros da função. Estes parâmetros são argumentos que controlam o comportamento da função.\n",
    "\n",
    "- RMSE: Root-mean-squared-error. Ver fórmula acima.\n",
    "\n",
    "- Treinamento: ajustar os parâmetros do modelo de modo a minimizar alguma métrica de desempenho (por exemplo, o RMSE em problemas de regressão) medida sobre o conjunto de treinamento.\n",
    "\n",
    "- Predição: aplicar o modelo à uma nova amostra para obter uma estimativa do valor da variável dependente."
   ]
  },
  {
   "cell_type": "markdown",
   "metadata": {},
   "source": [
    "# Regressão linear"
   ]
  },
  {
   "cell_type": "markdown",
   "metadata": {},
   "source": [
    "## Modelo"
   ]
  },
  {
   "cell_type": "markdown",
   "metadata": {},
   "source": [
    "Em um modelo de regressão linear, desejamos obter uma predição de valor $\\hat{y}$ como uma combinação linear dos valores das *features* mais um termo de *offset*.\n",
    "\n",
    "$$\\mathbf{\\theta} = (\\theta_0, \\theta_1, \\cdots, \\theta_n)$$\n",
    "\n",
    "$$\\hat{y} = \\theta_0 + \\theta_1 x_1 + \\theta_2 x_2 + \\cdots + \\theta_n x_n$$\n",
    "\n",
    "Em notação matricial:\n",
    "\n",
    "$$\\hat{y} = \\mathbf{x}^{T} \\mathbf{\\theta}$$\n",
    "\n",
    "onde o vetor $\\mathbf{x}$ de características da amostra é formado pelas características originais e por uma \"característica extra\" que é o valor $1$. Ou seja:\n",
    "\n",
    "$$\\mathbf{x} = \\left[\n",
    "\\begin{matrix}\n",
    "1 \\\\\n",
    "x_1 \\\\\n",
    "x_2 \\\\\n",
    "\\vdots \\\\\n",
    "x_n\n",
    "\\end{matrix}\n",
    "\\right]$$\n",
    "\n",
    "Para um dado conjunto de treinamento, podemos representar as várias quantidades deste problema em uma notação matricial:\n",
    "\n",
    "$$\n",
    "\\mathbf{X}_{\\text{train}} = \\left[\n",
    "\\begin{matrix}\n",
    "\\left(\\mathbf{x}_{\\text{train}}^{(1)}\\right)^{T} \\\\\n",
    "\\left(\\mathbf{x}_{\\text{train}}^{(2)}\\right)^{T} \\\\\n",
    "\\vdots \\\\\n",
    "\\left(\\mathbf{x}_{\\text{train}}^{(m)}\\right)^{T}\n",
    "\\end{matrix}\n",
    "\\right]\n",
    "\\  \\text{,} \\quad\n",
    "\\mathbf{y}_{\\text{train}} = \\left[\n",
    "\\begin{matrix}\n",
    "y_{\\text{train}}^{(1)} \\\\\n",
    "y_{\\text{train}}^{(2)} \\\\\n",
    "\\vdots \\\\\n",
    "y_{\\text{train}}^{(m)} \\\\\n",
    "\\end{matrix}\n",
    "\\right]\n",
    "\\  \\text{,} \\quad\n",
    "\\mathbf{\\theta} = \\left[\n",
    "\\begin{matrix}\n",
    "\\theta_0 \\\\\n",
    "\\theta_1 \\\\\n",
    "\\vdots \\\\\n",
    "\\theta_n\n",
    "\\end{matrix}\n",
    "\\right]\n",
    "\\  \\text{,} \\quad\n",
    "\\hat{\\mathbf{y}} = \\left[\n",
    "\\begin{matrix}\n",
    "\\hat{y}^{(1)} \\\\\n",
    "\\hat{y}^{(2)} \\\\\n",
    "\\vdots \\\\\n",
    "\\hat{y}^{(m)}\n",
    "\\end{matrix}\n",
    "\\right] = \\mathbf{X}_{\\text{train}} \\mathbf{\\theta}\n",
    "$$"
   ]
  },
  {
   "cell_type": "markdown",
   "metadata": {
    "tags": []
   },
   "source": [
    "## Erro quadrático"
   ]
  },
  {
   "cell_type": "markdown",
   "metadata": {},
   "source": [
    "Para um conjunto de amostras de treinamento, o erro quadrático médio é dado por:\n",
    "\n",
    "$$\n",
    "\\varepsilon^2\\left(\\mathbf{X}_{\\text{train}}, \\mathbf{y}_{\\text{train}}, \\mathbf{\\theta}\\right) = \n",
    "\\frac{1}{m} \n",
    "  \\sum_{i=1}^{m} \\left(\n",
    "    h_{\\mathbf{\\theta}}\\left(\\mathbf{x}_{\\text{train}}^{(i)}\\right) - y_{\\text{train}}^{(i)}\n",
    "  \\right)^2 =\n",
    "\\frac{1}{m} \n",
    "  \\sum_{i=1}^{m} \\left(\n",
    "    (\\mathbf{x}_{\\text{train}}^{(i)})^{T} \\mathbf{\\theta} - y_{\\text{train}}^{(i)}\n",
    "  \\right)^2 \n",
    "$$\n",
    "\n",
    "Em notação matricial,\n",
    "\n",
    "$$\n",
    "\\varepsilon^2\\left(\\mathbf{X}_{\\text{train}}, \\mathbf{y}_{\\text{train}}, \\mathbf{\\theta}\\right) = \\\\\n",
    "\\frac{1}{m} (\\mathbf{X}_{\\text{train}} \\mathbf{\\theta} - \\mathbf{y}_{\\text{train}})^T \n",
    "            (\\mathbf{X}_{\\text{train}} \\mathbf{\\theta} - \\mathbf{y}_{\\text{train}}) = \\\\\n",
    "\\frac{1}{m} (\\mathbf{\\theta}^{T} \\mathbf{X}_{\\text{train}}^{T} - \\mathbf{y}_{\\text{train}}^{T})\n",
    "            (\\mathbf{X}_{\\text{train}} \\mathbf{\\theta} - \\mathbf{y}_{\\text{train}}) = \\\\\n",
    "\\frac{1}{m} (\n",
    "    \\mathbf{\\theta}^{T} \\mathbf{X}_{\\text{train}}^{T} \\mathbf{X}_{\\text{train}} \\mathbf{\\theta} \n",
    "  - \\mathbf{\\theta}^{T} \\mathbf{X}_{\\text{train}}^{T} \\mathbf{y}_{\\text{train}}\n",
    "  - \\mathbf{y}_{\\text{train}}^{T} \\mathbf{X}_{\\text{train}} \\mathbf{\\theta}\n",
    "  + \\mathbf{y}_{\\text{train}}^{T} \\mathbf{y}_{\\text{train}}) = \\\\\n",
    "\\frac{1}{m} (\n",
    "    \\mathbf{\\theta}^{T} \\mathbf{X}_{\\text{train}}^{T} \\mathbf{X}_{\\text{train}} \\mathbf{\\theta} \n",
    "  - 2 \\mathbf{\\theta}^{T} \\mathbf{X}_{\\text{train}}^{T} \\mathbf{y}_{\\text{train}}\n",
    "  + \\mathbf{y}_{\\text{train}}^{T} \\mathbf{y}_{\\text{train}})\n",
    "$$\n",
    "\n",
    "Note que se $\\mathbf{X}_{\\text{train}}$ e $\\mathbf{y}_{\\text{train}}$ são quantidades fixas, a única variável aqui é $\\mathbf{\\theta}$."
   ]
  },
  {
   "cell_type": "markdown",
   "metadata": {},
   "source": [
    "## Cálculo matricial"
   ]
  },
  {
   "cell_type": "markdown",
   "metadata": {},
   "source": [
    "https://en.wikipedia.org/wiki/Matrix_calculus\n",
    "\n",
    "Quando temos que obter gradientes de expressões matriciais existem algumas fórmulas muito úteis do chamado *cálculo matricial*:\n",
    "\n",
    "1. Gradiente de $f(\\mathbf{x}) = \\mathbf{x}^{T} \\mathbf{a}$ onde $\\mathbf{x}$ e $\\mathbf{a}$ são matrizes-coluna:\n",
    "\n",
    "$$\n",
    "f(\\mathbf{x}) = \\mathbf{x}^{T} \\mathbf{a} \\Rightarrow \\nabla f(\\mathbf{x}) = \\mathbf{a}\n",
    "$$\n",
    "\n",
    "2. Gradiente de $f(\\mathbf{x}) = \\mathbf{x}^{T} \\mathbf{A} \\mathbf{x}$ onde $\\mathbf{x} \\in \\mathbb{R}^{n \\times 1}$ é matriz-coluna e $\\mathbf{A} \\in \\mathbb{R}^{n \\times n}$ é uma matriz quadrada:\n",
    "\n",
    "$$\n",
    "f(\\mathbf{x}) = \\mathbf{x}^{T} \\mathbf{A} \\mathbf{x} \\Rightarrow \\nabla f(\\mathbf{x}) = \\left( \\mathbf{A} + \\mathbf{A}^{T} \\right) \\mathbf{x}\n",
    "$$\n",
    "\n",
    "Caso particular: se $\\mathbf{A}$ for simétrica (ou seja, igual à sua transposta), então $\\mathbf{A} + \\mathbf{A}^{T} = 2 \\mathbf{A}$, logo:\n",
    "\n",
    "$$\n",
    "f(\\mathbf{x}) = \\mathbf{x}^{T} \\mathbf{A} \\mathbf{x} \\Rightarrow \\nabla f(\\mathbf{x}) = 2 \\mathbf{A} \\mathbf{x}\n",
    "$$\n"
   ]
  },
  {
   "cell_type": "markdown",
   "metadata": {
    "tags": []
   },
   "source": [
    "## Gradiente do erro"
   ]
  },
  {
   "cell_type": "markdown",
   "metadata": {},
   "source": [
    "Extraindo as derivadas parciais da função $\\varepsilon^2\\left(\\mathbf{X}_{\\text{train}}, \\mathbf{y}_{\\text{train}}, \\mathbf{\\theta}\\right)$ em relação aos termos $\\theta_i$ (usando o cálculo matricial) temos:\n",
    "\n",
    "$$\n",
    "\\nabla_{\\mathbf{\\theta}} \\varepsilon^2\\left(\\mathbf{X}_{\\text{train}}, \\mathbf{y}_{\\text{train}}, \\mathbf{\\theta}\\right) = \n",
    "\\frac{1}{m} (\n",
    "    2 \\mathbf{X}_{\\text{train}}^{T} \\mathbf{X}_{\\text{train}} \\mathbf{\\theta} \n",
    "  - 2 \\mathbf{X}_{\\text{train}}^{T} \\mathbf{y}_{\\text{train}})\n",
    "$$"
   ]
  },
  {
   "cell_type": "markdown",
   "metadata": {},
   "source": [
    "## A Equação Normal"
   ]
  },
  {
   "cell_type": "markdown",
   "metadata": {},
   "source": [
    "Nosso objetivo é achar o vetor de parâmetros $\\mathbf{\\theta}$ que minimiza $\\varepsilon^2\\left(\\mathbf{X}_{\\text{train}}, \\mathbf{y}_{\\text{train}}, \\mathbf{\\theta}\\right)$. Para tanto, vamos resolver a equação \n",
    "\n",
    "$$\\nabla_{\\mathbf{\\theta}} \\varepsilon^2\\left(\\mathbf{X}_{\\text{train}}, \\mathbf{y}_{\\text{train}}, \\mathbf{\\theta}\\right) = \\mathbf{0}$$\n",
    "\n",
    "onde $\\mathbf{0}$ é uma matriz-coluna de $m$ zeros.\n",
    "\n",
    "$$\n",
    "\\nabla_{\\mathbf{\\theta}} \\varepsilon^2\\left(\\mathbf{X}_{\\text{train}}, \\mathbf{y}_{\\text{train}}, \\mathbf{\\theta}\\right) = \n",
    "\\mathbf{0} \\\\\n",
    "\\Leftrightarrow \n",
    "\\frac{1}{m} (\n",
    "    2 \\mathbf{X}_{\\text{train}}^{T} \\mathbf{X}_{\\text{train}} \\mathbf{\\theta} \n",
    "  - 2 \\mathbf{X}_{\\text{train}}^{T} \\mathbf{y}_{\\text{train}}) = \\mathbf{0} \\\\\n",
    "\\Leftrightarrow\n",
    "  \\mathbf{X}_{\\text{train}}^{T} \\mathbf{X}_{\\text{train}} \\mathbf{\\theta} = \n",
    "  \\mathbf{X}_{\\text{train}}^{T} \\mathbf{y}_{\\text{train}} \\\\\n",
    "\\Leftrightarrow\n",
    "  \\mathbf{\\theta} = (\\mathbf{X}_{\\text{train}}^{T} \\mathbf{X}_{\\text{train}})^{-1}\n",
    "  \\mathbf{X}_{\\text{train}}^{T} \\mathbf{y}_{\\text{train}}  \n",
    "$$\n",
    "\n",
    "Esta última linha é conhecida como **equação normal** do problema de regressão linear. Será que corresponde a um ponto de mínimo? Calculando a segunda derivada do erro quadrático temos:\n",
    "\n",
    "$$\n",
    "\\nabla^{2}_{\\mathbf{\\theta}} \\varepsilon^2\\left(\\mathbf{X}_{\\text{train}}, \\mathbf{y}_{\\text{train}}, \\mathbf{\\theta}\\right) = \\frac{2}{m} \\mathbf{X}_{\\text{train}}^{T} \\mathbf{X}_{\\text{train}}\n",
    "$$\n",
    "\n",
    "Como a matriz resultante é positiva-definida (https://en.wikipedia.org/wiki/Positive-definite_matrix), temos a segurança de que a resposta da equação normal é realmente um ponto de mínimo!"
   ]
  },
  {
   "cell_type": "markdown",
   "metadata": {},
   "source": [
    "## Usando a equação normal para treinar uma regressão linear"
   ]
  },
  {
   "cell_type": "markdown",
   "metadata": {},
   "source": [
    "Chegamos finalmente ao nosso primeiro algoritmo de treinamento do curso de machine learning! Vamos treinar um modelo de regressão linear usando a equação normal.\n",
    "\n",
    "A vantagem de se usar a equação normal é que a solução final é obtida diretamente por uma fórmula. A desvantagem é que o cálculo desta fórmula não escala bem com o número de *features* do problema, porque a matriz quadrada $\\mathbf{X}_{\\text{train}}^{T} \\mathbf{X}_{\\text{train}}$ deve ser invertida e esta tem tamanho $n \\times n$. Se o número de *features* for muito alto (e.g. pixels em uma imagem) o custo desta operação é alto."
   ]
  },
  {
   "cell_type": "markdown",
   "metadata": {},
   "source": [
    "**Atividade:** Qual a complexidade computacional de se inverter uma matriz?"
   ]
  },
  {
   "cell_type": "markdown",
   "metadata": {},
   "source": [
    "**R:** $O(n^3)$ pelo algoritmo de Gauss-Jordan."
   ]
  },
  {
   "cell_type": "markdown",
   "metadata": {},
   "source": [
    "**Atividade:** Qual a complexidade computacional do treinamento do regressor linear via equação normal, em termos de:\n",
    "\n",
    "- $n$: número de *features*, e\n",
    "- $m$: número de amostras de treinamento?"
   ]
  },
  {
   "cell_type": "markdown",
   "metadata": {},
   "source": [
    "**R:**\n",
    "- Em relação ao número de features: $O(n^3)$\n",
    "\n",
    "- Em relação ao número de amostras: $O(m)$"
   ]
  },
  {
   "cell_type": "markdown",
   "metadata": {},
   "source": [
    "**Atividade:** Em função dos resultados acima, você recomendaria o uso da equação normal em um problema:\n",
    "\n",
    "1. Com poucas amostras de treinamento e muitas *features*?\n",
    "\n",
    "2. Com muitas amostras de treinamento e poucas *features*?"
   ]
  },
  {
   "cell_type": "markdown",
   "metadata": {},
   "source": [
    "**R:** \n",
    "\n",
    "1. Com poucas amostras de treinamento e muitas *features*?\n",
    "\n",
    "Não, o tempo de execução aumenta assintoticamente com o cubo do número de *features* e logo se torna inviável.\n",
    "\n",
    "2. Com muitas amostras de treinamento e poucas *features*?\n",
    "\n",
    "Sim, o tempo de execução cresce assintoticamente de modo apenas linear com o número de amostras."
   ]
  },
  {
   "cell_type": "markdown",
   "metadata": {},
   "source": [
    "Vamos gerar alguns pontos de dados para testar nossa regressão linear. Nossa função linear real será $f(x) = 3 x + 4$ e á esta adicionaremos ruído gaussiano de média zero e desvio padrão unitário:"
   ]
  },
  {
   "cell_type": "code",
   "execution_count": 2,
   "metadata": {},
   "outputs": [],
   "source": [
    "m = 100\n",
    "\n",
    "X = 2 * np.random.rand(m, 1)  # Gera m pontos aleatórios entre 0 e 2.\n",
    "ruido = np.random.randn(m, 1)  # Gera um ruido gaussiano de desvio padrão 1.0\n",
    "\n",
    "y = 4 + 3 * X + ruido  # Nosso sinal detectado."
   ]
  },
  {
   "cell_type": "markdown",
   "metadata": {},
   "source": [
    "**Pergunta:** Quais são os parâmetros ótimos esperados ao se treinar um modelo de regressão linear sobre dados gerados por esta código?"
   ]
  },
  {
   "cell_type": "markdown",
   "metadata": {},
   "source": [
    "**R:**\n",
    "Esses dados sintéticos foram gerados por um processo que espelha exatamente a premissa do modelo de regressão linear: de que os valores dependentes $y$ são gerados por uma combinação linear dos valores independentes $\\mathbf{x}$ (neste caso uma *feature* só) mais uma constante e um ruído aleatório.\n",
    "\n",
    "Desta forma, esperamos que um bom ajuste de parâmetros no treinamento de um modelo linear deverá reproduzir os coeficientes (no caso um só) e a constante que foram usados nesta geração de dados *fake*. Logo, esperamos obter a constante $\\theta_0$ valendo $4$ e o coeficiente $\\theta_1$ valendo 3."
   ]
  },
  {
   "cell_type": "code",
   "execution_count": 3,
   "metadata": {},
   "outputs": [
    {
     "data": {
      "image/png": "[encoded data removed]",
      "text/plain": [
       "<Figure size 576x432 with 1 Axes>"
      ]
     },
     "metadata": {
      "needs_background": "light"
     },
     "output_type": "display_data"
    }
   ],
   "source": [
    "X_aux = np.array([[0.0], [2.0]])\n",
    "y_aux = 4 + 3 * X_aux\n",
    "\n",
    "plt.figure(figsize=(8, 6))\n",
    "plt.plot(X, y, \"b.\")\n",
    "plt.plot(X_aux, y_aux, \"r--\")\n",
    "plt.xlabel(\"$x_1$\", fontsize=18)\n",
    "plt.ylabel(\"$y$\", rotation=0, fontsize=18)\n",
    "plt.axis([0, 2, 0, 15])\n",
    "plt.title('Amostras aleatórias e curva ideal')\n",
    "plt.show()"
   ]
  },
  {
   "cell_type": "markdown",
   "metadata": {},
   "source": [
    "Para usar a equação normal temos que aumentar a matriz de amostras de treinamento com uma coluna extra de valores $1$:"
   ]
  },
  {
   "cell_type": "code",
   "execution_count": 4,
   "metadata": {},
   "outputs": [
    {
     "name": "stdout",
     "output_type": "stream",
     "text": [
      "Tamanho original da matriz de amostras: (100, 1)\n",
      "Algumas das amostras originais:\n",
      "[[0.74908024]\n",
      " [1.90142861]\n",
      " [1.46398788]\n",
      " [1.19731697]\n",
      " [0.31203728]]\n"
     ]
    }
   ],
   "source": [
    "print(f'Tamanho original da matriz de amostras: {X.shape}')\n",
    "print(f'Algumas das amostras originais:\\n{X[:5]}')"
   ]
  },
  {
   "cell_type": "code",
   "execution_count": 5,
   "metadata": {},
   "outputs": [
    {
     "name": "stdout",
     "output_type": "stream",
     "text": [
      "Tamanho da matriz de amostras aumentada: (100, 2)\n",
      "Algumas das amostras da matriz aumentada:\n",
      "[[1.         0.74908024]\n",
      " [1.         1.90142861]\n",
      " [1.         1.46398788]\n",
      " [1.         1.19731697]\n",
      " [1.         0.31203728]]\n"
     ]
    }
   ],
   "source": [
    "# Adicionando uma coluna de 1s.\n",
    "X_b = np.c_[np.ones((m, 1)), X]\n",
    "\n",
    "print(f'Tamanho da matriz de amostras aumentada: {X_b.shape}')\n",
    "print(f'Algumas das amostras da matriz aumentada:\\n{X_b[:5]}')"
   ]
  },
  {
   "cell_type": "markdown",
   "metadata": {},
   "source": [
    "Agora vamos usar a equação normal para calcular os parâmetros ótimos:"
   ]
  },
  {
   "cell_type": "code",
   "execution_count": 6,
   "metadata": {},
   "outputs": [
    {
     "data": {
      "text/plain": [
       "array([[4.21509616],\n",
       "       [2.77011339]])"
      ]
     },
     "execution_count": 6,
     "metadata": {},
     "output_type": "execute_result"
    }
   ],
   "source": [
    "theta_best = np.linalg.inv(X_b.T.dot(X_b)).dot(X_b.T).dot(y)\n",
    "theta_best"
   ]
  },
  {
   "cell_type": "markdown",
   "metadata": {},
   "source": [
    "Chegamos perto do resultado ideal!\n",
    "\n",
    "**Atividade:** Mude o número de pontos de treinamento e veja se os parâmetros ótimos se aproximam dos parâmetros ideais."
   ]
  },
  {
   "cell_type": "markdown",
   "metadata": {},
   "source": [
    "**R**: Quanto mais pontos de treinamento, mais os parâmetros ajustados ótimos se aproximam dos parâmetros ideais. Para investigar melhor essa questão, vamos explorar como o valor ajustado se comporta dependendo do número de amostras de treinamento através de um gráfico, veja abaixo. (Nota: o eixo do número de amostras está em escala logarítmica.)"
   ]
  },
  {
   "cell_type": "code",
   "execution_count": 7,
   "metadata": {
    "tags": []
   },
   "outputs": [
    {
     "data": {
      "image/png": "[encoded data removed]",
      "text/plain": [
       "<Figure size 576x432 with 1 Axes>"
      ]
     },
     "metadata": {
      "needs_background": "light"
     },
     "output_type": "display_data"
    },
    {
     "data": {
      "image/png": "[encoded data removed]",
      "text/plain": [
       "<Figure size 576x432 with 1 Axes>"
      ]
     },
     "metadata": {
      "needs_background": "light"
     },
     "output_type": "display_data"
    }
   ],
   "source": [
    "def experimento(m):\n",
    "    # Gera o sinal ruidoso.\n",
    "    X = 2 * np.random.rand(m, 1)\n",
    "    ruido = np.random.randn(m, 1)\n",
    "    y = 4 + 3 * X + ruido\n",
    "\n",
    "    # Ajusta o modelo via equação normal.\n",
    "    X_b = np.c_[np.ones((m, 1)), X]\n",
    "    theta_best = np.linalg.inv(X_b.T.dot(X_b)).dot(X_b.T).dot(y)\n",
    "\n",
    "    return theta_best\n",
    "\n",
    "\n",
    "def roda_experimentos(range_m):\n",
    "    constantes = []\n",
    "    coefs = []\n",
    "    for m in range_m:\n",
    "        t = experimento(m)\n",
    "        constantes.append(t[0])\n",
    "        coefs.append(t[1])\n",
    "    return constantes, coefs\n",
    "\n",
    "\n",
    "def plot_figure(x, y, v, ylim, ylabel, t):\n",
    "    plt.figure(figsize=(8, 6))\n",
    "    plt.plot(x, y)\n",
    "    plt.plot(x, v * np.ones(len(x)))\n",
    "    plt.xlabel('Número de amostras (m)')\n",
    "    plt.ylabel(ylabel)\n",
    "    plt.xscale('log')\n",
    "    plt.ylim(ylim)\n",
    "    plt.title(t)\n",
    "    plt.show()\n",
    "\n",
    "\n",
    "range_m = list([int(2**k) for k in np.arange(2, 16, 0.01)])\n",
    "constantes, coefs = roda_experimentos(range_m)\n",
    "\n",
    "plot_figure(\n",
    "    range_m,\n",
    "    constantes,\n",
    "    4.0,\n",
    "    [0.0, 6.0],\n",
    "    r'$\\theta_0$',\n",
    "    'Constante em função do numero de amostras',\n",
    ")\n",
    "\n",
    "plot_figure(\n",
    "    range_m,\n",
    "    coefs,\n",
    "    3,\n",
    "    [0.0, 6.0],\n",
    "    r'$\\theta_1$',\n",
    "    'Coeficiente linear em função do numero de amostras',\n",
    ")"
   ]
  },
  {
   "cell_type": "markdown",
   "metadata": {},
   "source": [
    "Vamos ver como o modelo se comporta para fazer predições:"
   ]
  },
  {
   "cell_type": "code",
   "execution_count": 8,
   "metadata": {},
   "outputs": [],
   "source": [
    "# Criando um vetor de amostras fictícias de teste.\n",
    "X_test = np.linspace(0.0, 2.0, num=100).T\n",
    "\n",
    "# Calculando os valores de y segundo a equação normal.\n",
    "X_test_b = np.c_[np.ones((len(X_test), 1)), X_test]\n",
    "y_test = X_test_b.dot(theta_best)"
   ]
  },
  {
   "cell_type": "code",
   "execution_count": 9,
   "metadata": {},
   "outputs": [
    {
     "data": {
      "image/png": "[encoded data removed]",
      "text/plain": [
       "<Figure size 576x432 with 1 Axes>"
      ]
     },
     "metadata": {
      "needs_background": "light"
     },
     "output_type": "display_data"
    }
   ],
   "source": [
    "plt.figure(figsize=(8, 6))\n",
    "plt.plot(X, y, \"b.\", label='amostras')\n",
    "plt.plot(X_aux, y_aux, \"r\", label='ideal')\n",
    "plt.plot(X_test, y_test, \"g-\", label='predições')\n",
    "plt.xlabel(\"$x_1$\", fontsize=18)\n",
    "plt.ylabel(\"$y$\", rotation=0, fontsize=18)\n",
    "plt.legend(loc=\"upper left\", fontsize=14)\n",
    "plt.axis([0, 2, 0, 15])\n",
    "plt.title('Amostras aleatórias, curva ideal e resultado do ajuste')\n",
    "plt.show()"
   ]
  },
  {
   "cell_type": "markdown",
   "metadata": {},
   "source": [
    "Vamos comparar nosso preditor com o regressor linear do scikit-learn:"
   ]
  },
  {
   "cell_type": "code",
   "execution_count": 10,
   "metadata": {},
   "outputs": [
    {
     "data": {
      "text/plain": [
       "(array([4.21509616]), array([[2.77011339]]))"
      ]
     },
     "execution_count": 10,
     "metadata": {},
     "output_type": "execute_result"
    }
   ],
   "source": [
    "from sklearn.linear_model import LinearRegression\n",
    "\n",
    "lin_reg = LinearRegression()\n",
    "lin_reg.fit(X, y)\n",
    "lin_reg.intercept_, lin_reg.coef_"
   ]
  },
  {
   "cell_type": "markdown",
   "metadata": {},
   "source": [
    "Resultados identicos!"
   ]
  },
  {
   "cell_type": "markdown",
   "metadata": {},
   "source": [
    "**Atividade:** Escreva seu próprio regressor linear no framework do scikit-learn. Teste o regressor."
   ]
  },
  {
   "cell_type": "code",
   "execution_count": 11,
   "metadata": {},
   "outputs": [],
   "source": [
    "from sklearn.base import BaseEstimator, RegressorMixin\n",
    "\n",
    "\n",
    "class NormalEquationLinearRegressor(BaseEstimator, RegressorMixin):\n",
    "\n",
    "    def fit(self, X, y):\n",
    "        X_b = np.c_[np.ones((m, 1)), X]\n",
    "        self.theta_best = np.linalg.inv(X_b.T.dot(X_b)).dot(X_b.T).dot(y)\n",
    "\n",
    "    def predict(self, X):\n",
    "        X_b = np.c_[np.ones((len(X), 1)), X]\n",
    "        y_pred = X_b.dot(self.theta_best)\n",
    "        return y_pred"
   ]
  },
  {
   "cell_type": "code",
   "execution_count": 12,
   "metadata": {},
   "outputs": [],
   "source": [
    "lin_reg_caseiro = NormalEquationLinearRegressor()\n",
    "lin_reg_caseiro.fit(X, y)"
   ]
  },
  {
   "cell_type": "code",
   "execution_count": 13,
   "metadata": {},
   "outputs": [],
   "source": [
    "y_pred = lin_reg_caseiro.predict(X_test)"
   ]
  },
  {
   "cell_type": "code",
   "execution_count": 14,
   "metadata": {},
   "outputs": [
    {
     "data": {
      "text/plain": [
       "0.7692735413614223"
      ]
     },
     "execution_count": 14,
     "metadata": {},
     "output_type": "execute_result"
    }
   ],
   "source": [
    "lin_reg_caseiro.score(X, y)"
   ]
  },
  {
   "cell_type": "code",
   "execution_count": 15,
   "metadata": {},
   "outputs": [
    {
     "data": {
      "image/png": "[encoded data removed]",
      "text/plain": [
       "<Figure size 576x432 with 1 Axes>"
      ]
     },
     "metadata": {
      "needs_background": "light"
     },
     "output_type": "display_data"
    }
   ],
   "source": [
    "plt.figure(figsize=(8, 6))\n",
    "plt.plot(X, y, \"b.\", label='amostras')\n",
    "plt.plot(X_aux, y_aux, \"r\", label='ideal')\n",
    "plt.plot(X_test, y_pred, \"k-\", label='predições')\n",
    "plt.xlabel(\"$x_1$\", fontsize=18)\n",
    "plt.ylabel(\"$y$\", rotation=0, fontsize=18)\n",
    "plt.legend(loc=\"upper left\", fontsize=14)\n",
    "plt.axis([0, 2, 0, 15])\n",
    "plt.title('Amostras aleatórias, curva ideal e resultado do ajuste')\n",
    "plt.show()"
   ]
  },
  {
   "cell_type": "markdown",
   "metadata": {},
   "source": [
    "#  Gradient Descent"
   ]
  },
  {
   "cell_type": "markdown",
   "metadata": {},
   "source": [
    "Um outro método de treinamento de uma regressão linear é o método do máximo declive (*gradient descent*). Este método também serve para outros regressores e classificadores, é bastante genérico - usaremos bastante o gradient descent em redes neurais!\n",
    "\n",
    "Este método se baseia na observação seguinte:\n",
    "\n",
    "- O gradiente da função de erro médio é um vetor no espaço de características que aponta na direção de maior crescimento do erro.\n",
    "- Logo, se desejo achar os parâmetros que minimizam o erro, basta andar na direção contrária do gradiente do erro!\n",
    "\n",
    "Ou seja, partindo de um \"chute\" aleatório $\\mathbf{\\theta}_{0}$ dos valores dos parâmetros, vamos iterativamente melhorar nossos parâmetros através de pequenos incrementos neste na direção oposta ao gradiente da função de erro:\n",
    "\n",
    "$$\n",
    "\\mathbf{\\theta}_{i + 1} = \\mathbf{\\theta}_{i} - \\eta \\nabla_{\\mathbf{\\theta}} \\varepsilon^2\\left(\\mathbf{X}_{\\text{train}}, \\mathbf{y}_{\\text{train}}, \\mathbf{\\theta}_{i}\\right)\n",
    "$$\n",
    "\n",
    "O **hiperparâmetro** $\\eta$ é chamado de *passo de aprendizado* (*learning step*) do algoritmo.\n",
    "\n",
    "Continuamos iterando através desta fórmula até que não tenhamos mais mudanças significativas em $\\mathbf{\\theta}$, ou seja: para uma pequena tolerância $\\epsilon > 0$\n",
    "\n",
    "$$\n",
    "\\left| \\, \\mathbf{\\theta}_{i + 1} - \\mathbf{\\theta}_{i} \\, \\right| < \\epsilon\n",
    "$$\n",
    "\n",
    "O **hiperparâmetro** $\\epsilon$ controla a precisão desejada na solução final. Se a tolerância for muito pequena pode ser que o algoritmo não convirja rapidamente. Neste caso é comum definir um número máximo de iterações através de outro **hiperparâmetro** ``max_iter``."
   ]
  },
  {
   "cell_type": "markdown",
   "metadata": {},
   "source": [
    "**Atividade:** Estude o material do livro texto (Géron), capítulo 4 e responda:\n",
    "\n",
    "- Qual a diferença entre batch gradient descent, stochastic gradient descent, e mini-batch gradient descent?\n",
    "- O que acontece quando $\\eta$ é muito pequeno?\n",
    "- O que acontece quando $\\eta$ é muito grande?\n",
    "- Quais as classes do scikit-learn que implementam regressão linear usando a equação normal no treinamento? Quais usam gradient descent em alguma de suas formas?"
   ]
  },
  {
   "cell_type": "markdown",
   "metadata": {},
   "source": [
    "**R:**"
   ]
  },
  {
   "cell_type": "markdown",
   "metadata": {},
   "source": [
    "Vamos implementar o método do *gradient descent* para resolver o problema do treinamento do modelo linear.\n",
    "\n",
    "Vamos desenhar a discussão acima na forma de pseudo-código:\n",
    "\n",
    "- Entrada: \n",
    "    - Conjunto de treinamento $(\\mathbf{X}_{m \\times n}, \\mathbf{y}_{m \\times 1})$\n",
    "    - Valores iniciais do vetor de parâmetros $\\theta$\n",
    "    - Hiperparâmetros do algoritmo: \n",
    "        - tolerância $\\epsilon$\n",
    "        - número máximo de iterações $N_{\\text{max}}$\n",
    "        - taxa de aprendizado $\\eta$\n",
    "- Saida: \n",
    "    - Valores ótimos do vetor de parametros $\\theta$\n",
    "\n",
    "Algoritmo:\n",
    "\n",
    "- $acabou \\leftarrow Falso$\n",
    "- $iter \\leftarrow 0$\n",
    "- enquanto não $acabou$:\n",
    "    - $\\theta_{novo} \\leftarrow \\theta - \\eta \\nabla_{\\theta} \\varepsilon^2\\left(\\mathbf{X}, \\mathbf{y}, \\theta\\right)$\n",
    "    - $iter \\leftarrow iter + 1$\n",
    "    - se $\\left| \\, \\theta - \\theta_{novo} \\, \\right| < \\epsilon$ ou $iter > N_{\\text{max}}$:\n",
    "        - $acabou \\leftarrow Verdadeiro$\n",
    "    - $\\theta \\leftarrow \\theta_{novo}$\n",
    "- retorna $\\theta$\n",
    "\n",
    "**Atividade**: Implemente o algoritmo de *gradient descent* na forma de um modelo do Scikit-Learn e teste o resultado! Lembrando: \n",
    "\n",
    "$$\n",
    "\\nabla_{\\theta} \\varepsilon^2\\left(\\mathbf{X}, \\mathbf{y}, \\theta \\right) = \n",
    "\\frac{1}{m} (\n",
    "    2 \\mathbf{X}^{T} \\mathbf{X} \\mathbf{\\theta} \n",
    "  - 2 \\mathbf{X}^{T} \\mathbf{y})\n",
    "$$\n",
    "\n",
    "sendo que a matriz $\\mathbf{X}$ já contem o termo constante (aquela coluna de $1$s)."
   ]
  },
  {
   "cell_type": "code",
   "execution_count": 16,
   "metadata": {},
   "outputs": [],
   "source": [
    "from numpy.linalg import norm\n",
    "\n",
    "\n",
    "def gradient_mse(X, y, theta):\n",
    "    m = X.shape[0]\n",
    "    y_pred = X.dot(theta)\n",
    "    erro = y_pred - y\n",
    "    return (2.0 / m) * X.T.dot(erro)\n",
    "\n",
    "\n",
    "def batch_gradient_descent(\n",
    "    X,\n",
    "    y,\n",
    "    gradient=gradient_mse,\n",
    "    n_max=100,\n",
    "    tol=1e-3,\n",
    "    eta=1e-3,\n",
    "):\n",
    "    m = X.shape[0]\n",
    "    n = X.shape[1]\n",
    "    theta = np.zeros((n + 1, 1))\n",
    "    X_b = np.c_[np.ones((m, 1)), X]\n",
    "    done = False\n",
    "    i = 0\n",
    "    status = []\n",
    "    while not done:\n",
    "        new_theta = theta - eta * gradient(X_b, y, theta)\n",
    "        i += 1\n",
    "        mag_diff = norm(new_theta - theta)\n",
    "        status.append({'d': mag_diff, 'nt': new_theta})\n",
    "        if (mag_diff < tol) or (i >= n_max):\n",
    "            done = True\n",
    "        theta = new_theta\n",
    "    return theta, status"
   ]
  },
  {
   "cell_type": "code",
   "execution_count": 17,
   "metadata": {
    "tags": [
     "outputPrepend"
    ]
   },
   "outputs": [
    {
     "name": "stdout",
     "output_type": "stream",
     "text": [
      "[[4.21507534]\n",
      " [2.77013177]]\n",
      "312\n",
      "[{'d': 2.0103445623216794, 'nt': array([[1.36400082],\n",
      "       [1.47681652]])}, {'d': 1.1805665244123151, 'nt': array([[2.1774532 ],\n",
      "       [2.33240552]])}, {'d': 0.6937888799584158, 'nt': array([[2.66730252],\n",
      "       [2.82372075]])}, {'d': 0.40852396661361745, 'nt': array([[2.96677918],\n",
      "       [3.10157963]])}, {'d': 0.2418148078793325, 'nt': array([[3.15410296],\n",
      "       [3.25449858]])}, {'d': 0.1450968842838493, 'nt': array([[3.27520216],\n",
      "       [3.3344241 ]])}, {'d': 0.0899929757787009, 'nt': array([[3.35704975],\n",
      "       [3.37183677]])}, {'d': 0.05982291561532522, 'nt': array([[3.41549153],\n",
      "       [3.3846172 ]])}, {'d': 0.04437084186078004, 'nt': array([[3.45984131],\n",
      "       [3.38325025]])}, {'d': 0.03694496207309521, 'nt': array([[3.49557822],\n",
      "       [3.3738799 ]])}, {'d': 0.03333245818733275, 'nt': array([[3.52593006],\n",
      "       [3.36010241]])}, {'d': 0.03131800146948185, 'nt': array([[3.55280268],\n",
      "       [3.34401891]])}, {'d': 0.02993388454584983, 'nt': array([[3.57732565],\n",
      "       [3.3268532 ]])}, {'d': 0.028802483054564336, 'nt': array([[3.60017241],\n",
      "       [3.30931443]])}, {'d': 0.027783594772908093, 'nt': array([[3.62174838],\n",
      "       [3.29180999]])}, {'d': 0.026825821014236154, 'nt': array([[3.64230126],\n",
      "       [3.27457038]])}, {'d': 0.025910032162926356, 'nt': array([[3.66198585],\n",
      "       [3.25772264]])}, {'d': 0.025028708799188015, 'nt': array([[3.68090212],\n",
      "       [3.24133328]])}, {'d': 0.02417850592815725, 'nt': array([[3.69911752],\n",
      "       [3.22543361]])}, {'d': 0.023357591240415695, 'nt': array([[3.71668013],\n",
      "       [3.21003452]])}, {'d': 0.022564693822385472, 'nt': array([[3.73362635],\n",
      "       [3.19513517]])}, {'d': 0.02179876397083231, 'nt': array([[3.74998549],\n",
      "       [3.18072806]])}, {'d': 0.021058851127797845, 'nt': array([[3.76578238],\n",
      "       [3.16680206]])}, {'d': 0.02034405965403205, 'nt': array([[3.78103899],\n",
      "       [3.1533441 ]])}, {'d': 0.01965353239062044, 'nt': array([[3.79577534],\n",
      "       [3.14034021]])}, {'d': 0.01898644415462768, 'nt': array([[3.8100101],\n",
      "       [3.1277761]])}, {'d': 0.018341998799702063, 'nt': array([[3.82376086],\n",
      "       [3.11563751]])}, {'d': 0.017719427569218387, 'nt': array([[3.8370444 ],\n",
      "       [3.10391038]])}, {'d': 0.017117987930747973, 'nt': array([[3.84987679],\n",
      "       [3.09258097]])}, {'d': 0.016536962601821, 'nt': array([[3.86227344],\n",
      "       [3.08163592]])}, {'d': 0.015975658662880574, 'nt': array([[3.87424923],\n",
      "       [3.07106226]])}, {'d': 0.015433406719643786, 'nt': array([[3.88581847],\n",
      "       [3.06084743]])}, {'d': 0.014909560100780926, 'nt': array([[3.89699498],\n",
      "       [3.05097928]])}, {'d': 0.014403494085285578, 'nt': array([[3.90779212],\n",
      "       [3.04144606]])}, {'d': 0.013914605156939553, 'nt': array([[3.91822277],\n",
      "       [3.0322364 ]])}, {'d': 0.013442310284399689, 'nt': array([[3.92829937],\n",
      "       [3.02333933]])}, {'d': 0.012986046225832408, 'nt': array([[3.93803395],\n",
      "       [3.01474424]])}, {'d': 0.012545268857185361, 'nt': array([[3.9474381 ],\n",
      "       [3.00644089]])}, {'d': 0.01211945252327876, 'nt': array([[3.95652306],\n",
      "       [2.99841937]])}, {'d': 0.01170808941092505, 'nt': array([[3.96529964],\n",
      "       [2.99067013]])}, {'d': 0.011310688943325679, 'nt': array([[3.97377833],\n",
      "       [2.98318391]])}, {'d': 0.010926777195030421, 'nt': array([[3.98196924],\n",
      "       [2.97595178]])}, {'d': 0.010555896326747565, 'nt': array([[3.98988212],\n",
      "       [2.96896514]])}, {'d': 0.010197604039343515, 'nt': array([[3.99752642],\n",
      "       [2.96221564]])}, {'d': 0.009851473046370293, 'nt': array([[4.00491126],\n",
      "       [2.95569523]])}, {'d': 0.009517090564501061, 'nt': array([[4.01204543],\n",
      "       [2.94939614]])}, {'d': 0.009194057821260997, 'nt': array([[4.01893746],\n",
      "       [2.94331085]])}, {'d': 0.008881989579461095, 'nt': array([[4.02559555],\n",
      "       [2.93743212]])}, {'d': 0.008580513677782946, 'nt': array([[4.03202766],\n",
      "       [2.93175292]])}, {'d': 0.008289270586949792, 'nt': array([[4.03824144],\n",
      "       [2.92626649]])}, {'d': 0.008007912980965603, 'nt': array([[4.04424431],\n",
      "       [2.92096628]])}, {'d': 0.007736105322906094, 'nt': array([[4.05004343],\n",
      "       [2.91584598]])}, {'d': 0.0074735234647725, 'nt': array([[4.05564571],\n",
      "       [2.91089946]])}, {'d': 0.007219854260919107, 'nt': array([[4.06105784],\n",
      "       [2.90612085]])}, {'d': 0.0069747951946117865, 'nt': array([[4.06628627],\n",
      "       [2.90150443]])}, {'d': 0.006738054017254198, 'nt': array([[4.07133723],\n",
      "       [2.89704471]])}, {'d': 0.0065093483998663985, 'nt': array([[4.07621675],\n",
      "       [2.89273635]])}, {'d': 0.0062884055963839435, 'nt': array([[4.08093065],\n",
      "       [2.88857424]])}, {'d': 0.0060749621183961, 'nt': array([[4.08548455],\n",
      "       [2.8845534 ]])}, {'d': 0.005868763420917554, 'nt': array([[4.08988387],\n",
      "       [2.88066903]])}, {'d': 0.005669563598825188, 'nt': array([[4.09413388],\n",
      "       [2.87691651]])}, {'d': 0.005477125093602303, 'nt': array([[4.09823962],\n",
      "       [2.87329135]])}, {'d': 0.005291218410034753, 'nt': array([[4.10220601],\n",
      "       [2.86978925]])}, {'d': 0.005111621842523671, 'nt': array([[4.10603777],\n",
      "       [2.86640601]])}, {'d': 0.004938121210685508, 'nt': array([[4.10973948],\n",
      "       [2.86313761]])}, {'d': 0.004770509603931808, 'nt': array([[4.11331553],\n",
      "       [2.85998015]])}, {'d': 0.00460858713470994, 'nt': array([[4.11677021],\n",
      "       [2.85692985]])}, {'d': 0.004452160700129097, 'nt': array([[4.12010763],\n",
      "       [2.8539831 ]])}, {'d': 0.004301043751670218, 'nt': array([[4.12333176],\n",
      "       [2.85113636]])}, {'d': 0.004155056072717666, 'nt': array([[4.12644647],\n",
      "       [2.84838625]])}, {'d': 0.004014023563633863, 'nt': array([[4.12945545],\n",
      "       [2.84572948]])}, {'d': 0.0038777780341409758, 'nt': array([[4.1323623 ],\n",
      "       [2.84316289]])}, {'d': 0.0037461570027391747, 'nt': array([[4.13517048],\n",
      "       [2.84068341]])}, {'d': 0.0036190035029373202, 'nt': array([[4.13788335],\n",
      "       [2.8382881 ]])}, {'d': 0.003496165896062727, 'nt': array([[4.14050414],\n",
      "       [2.83597409]])}, {'d': 0.003377497690420303, 'nt': array([[4.14303597],\n",
      "       [2.83373862]])}, {'d': 0.0032628573665912717, 'nt': array([[4.14548186],\n",
      "       [2.83157902]])}, {'d': 0.003152108208664408, 'nt': array([[4.14784474],\n",
      "       [2.82949273]])}, {'d': 0.003045118141191957, 'nt': array([[4.15012741],\n",
      "       [2.82747726]])}, {'d': 0.002941759571682778, 'nt': array([[4.15233261],\n",
      "       [2.82553019]])}, {'d': 0.0028419092384372054, 'nt': array([[4.15446295],\n",
      "       [2.82364921]])}, {'d': 0.0027454480635528632, 'nt': array([[4.15652099],\n",
      "       [2.82183208]])}, {'d': 0.002652261010914617, 'nt': array([[4.15850917],\n",
      "       [2.82007662]])}, {'d': 0.002562236949008401, 'nt': array([[4.16042986],\n",
      "       [2.81838075]])}, {'d': 0.002475268518387813, 'nt': array([[4.16228537],\n",
      "       [2.81674244]])}, {'d': 0.0023912520036413662, 'nt': array([[4.16407789],\n",
      "       [2.81515974]])}, {'d': 0.002310087209707953, 'nt': array([[4.16580957],\n",
      "       [2.81363076]])}, {'d': 0.002231677342384124, 'nt': array([[4.16748248],\n",
      "       [2.81215368]])}, {'d': 0.0021559288928918513, 'nt': array([[4.1690986 ],\n",
      "       [2.81072673]])}, {'d': 0.0020827515263651284, 'nt': array([[4.17065987],\n",
      "       [2.80934822]])}, {'d': 0.002012057974119203, 'nt': array([[4.17216814],\n",
      "       [2.80801649]])}, {'d': 0.0019437639295758137, 'nt': array([[4.17362522],\n",
      "       [2.80672997]])}, {'d': 0.0018777879477219956, 'nt': array([[4.17503284],\n",
      "       [2.80548712]])}, {'d': 0.0018140513479848245, 'nt': array([[4.17639269],\n",
      "       [2.80428645]])}, {'d': 0.001752478120395468, 'nt': array([[4.17770637],\n",
      "       [2.80312653]])}, {'d': 0.0016929948349454795, 'nt': array([[4.17897547],\n",
      "       [2.80200599]])}, {'d': 0.0016355305540164406, 'nt': array([[4.1802015 ],\n",
      "       [2.80092348]])}, {'d': 0.0015800167477814473, 'nt': array([[4.1813859 ],\n",
      "       [2.79987771]])}, {'d': 0.0015263872124794589, 'nt': array([[4.18253011],\n",
      "       [2.79886744]])}, {'d': 0.0014745779914627124, 'nt': array([[4.18363548],\n",
      "       [2.79789146]])}, {'d': 0.0014245272989241967, 'nt': array([[4.18470333],\n",
      "       [2.7969486 ]])}, {'d': 0.0013761754462151225, 'nt': array([[4.18573493],\n",
      "       [2.79603775]])}, {'d': 0.0013294647706615784, 'nt': array([[4.18673152],\n",
      "       [2.79515782]])}, {'d': 0.0012843395667981607, 'nt': array([[4.18769429],\n",
      "       [2.79430775]])}, {'d': 0.001240746019936213, 'nt': array([[4.18862437],\n",
      "       [2.79348653]])}, {'d': 0.0011986321419852433, 'nt': array([[4.18952289],\n",
      "       [2.79269319]])}, {'d': 0.0011579477094541104, 'nt': array([[4.19039091],\n",
      "       [2.79192678]])}, {'d': 0.0011186442035585364, 'nt': array([[4.19122946],\n",
      "       [2.79118638]])}, {'d': 0.0010806747523552688, 'nt': array([[4.19203955],\n",
      "       [2.79047111]])}, {'d': 0.0010439940748477269, 'nt': array([[4.19282215],\n",
      "       [2.78978012]])}, {'d': 0.0010085584269846647, 'nt': array([[4.19357818],\n",
      "       [2.78911259]])}, {'d': 0.000974325549491545, 'nt': array([[4.19430855],\n",
      "       [2.78846771]])}, {'d': 0.0009412546174737726, 'nt': array([[4.19501413],\n",
      "       [2.78784472]])}, {'d': 0.0009093061917331328, 'nt': array([[4.19569577],\n",
      "       [2.78724288]])}, {'d': 0.0008784421717290066, 'nt': array([[4.19635426],\n",
      "       [2.78666146]])}, {'d': 0.0008486257501464251, 'nt': array([[4.19699041],\n",
      "       [2.78609978]])}, {'d': 0.0008198213689969369, 'nt': array([[4.19760496],\n",
      "       [2.78555716]])}, {'d': 0.0007919946772156046, 'nt': array([[4.19819865],\n",
      "       [2.78503297]])}, {'d': 0.0007651124896946954, 'nt': array([[4.19877219],\n",
      "       [2.78452656]])}, {'d': 0.0007391427477064127, 'nt': array([[4.19932627],\n",
      "       [2.78403734]])}, {'d': 0.0007140544806760975, 'nt': array([[4.19986154],\n",
      "       [2.78356473]])}, {'d': 0.0006898177692409684, 'nt': array([[4.20037863],\n",
      "       [2.78310816]])}, {'d': 0.0006664037095737882, 'nt': array([[4.20087818],\n",
      "       [2.78266709]])}, {'d': 0.0006437843789124853, 'nt': array([[4.20136077],\n",
      "       [2.78224098]])}, {'d': 0.0006219328022603469, 'nt': array([[4.20182699],\n",
      "       [2.78182934]])}, {'d': 0.0006008229202155381, 'nt': array([[4.20227737],\n",
      "       [2.78143168]])}, {'d': 0.0005804295578950744, 'nt': array([[4.20271247],\n",
      "       [2.78104751]])}, {'d': 0.0005607283949111191, 'nt': array([[4.20313281],\n",
      "       [2.78067638]])}, {'d': 0.00054169593636789, 'nt': array([[4.20353887],\n",
      "       [2.78031784]])}, {'d': 0.0005233094848425257, 'nt': array([[4.20393115],\n",
      "       [2.77997148]])}, {'d': 0.0005055471133169286, 'nt': array([[4.20431012],\n",
      "       [2.77963687]])}, {'d': 0.0004883876390271052, 'nt': array([[4.20467622],\n",
      "       [2.77931362]])}, {'d': 0.0004718105982048549, 'nt': array([[4.2050299 ],\n",
      "       [2.77900134]])}, {'d': 0.0004557962216683431, 'nt': array([[4.20537157],\n",
      "       [2.77869967]])}, {'d': 0.000440325411251347, 'nt': array([[4.20570165],\n",
      "       [2.77840823]])}, {'d': 0.0004253797170236236, 'nt': array([[4.20602052],\n",
      "       [2.77812668]])}, {'d': 0.00041094131528981727, 'nt': array([[4.20632857],\n",
      "       [2.77785469]])}, {'d': 0.000396992987333199, 'nt': array([[4.20662616],\n",
      "       [2.77759193]])}, {'d': 0.00038351809888061475, 'nt': array([[4.20691365],\n",
      "       [2.77733809]])}, {'d': 0.0003705005802678765, 'nt': array([[4.20719139],\n",
      "       [2.77709287]])}, {'d': 0.00035792490727175466, 'nt': array([[4.20745969],\n",
      "       [2.77685597]])}, {'d': 0.00034577608259780875, 'nt': array([[4.20771889],\n",
      "       [2.77662711]])}, {'d': 0.0003340396179981102, 'nt': array([[4.2079693 ],\n",
      "       [2.77640602]])}, {'d': 0.0003227015169866138, 'nt': array([[4.2082112 ],\n",
      "       [2.77619243]])}, {'d': 0.00031174825815446453, 'nt': array([[4.20844489],\n",
      "       [2.77598609]])}, {'d': 0.0003011667790407438, 'nt': array([[4.20867065],\n",
      "       [2.77578676]])}, {'d': 0.00029094446055526055, 'nt': array([[4.20888875],\n",
      "       [2.77559419]])}, {'d': 0.0002810691119299621, 'nt': array([[4.20909944],\n",
      "       [2.77540816]])}, {'d': 0.00027152895618010265, 'nt': array([[4.20930298],\n",
      "       [2.77522844]])}, {'d': 0.0002623126160618262, 'nt': array([[4.20949962],\n",
      "       [2.77505483]])}, {'d': 0.0002534091004985321, 'nt': array([[4.20968958],\n",
      "       [2.7748871 ]])}, {'d': 0.0002448077914810482, 'nt': array([[4.20987309],\n",
      "       [2.77472507]])}, {'d': 0.00023649843139784247, 'nt': array([[4.21005037],\n",
      "       [2.77456854]])}, {'d': 0.00022847111080554817, 'nt': array([[4.21022164],\n",
      "       [2.77441732]])}, {'d': 0.00022071625661148418, 'nt': array([[4.21038709],\n",
      "       [2.77427123]])}, {'d': 0.0002132246206574518, 'nt': array([[4.21054693],\n",
      "       [2.77413011]])}, {'d': 0.0002059872686885945, 'nt': array([[4.21070134],\n",
      "       [2.77399377]])}, {'d': 0.0001989955696999484, 'nt': array([[4.21085051],\n",
      "       [2.77386206]])}, {'d': 0.00019224118564290467, 'nt': array([[4.21099462],\n",
      "       [2.77373482]])}, {'d': 0.0001857160614845656, 'nt': array([[4.21113384],\n",
      "       [2.7736119 ]])}, {'d': 0.0001794124155960434, 'nt': array([[4.21126833],\n",
      "       [2.77349315]])}, {'d': 0.00017332273047823677, 'nt': array([[4.21139825],\n",
      "       [2.77337844]])}, {'d': 0.0001674397437908715, 'nt': array([[4.21152377],\n",
      "       [2.77326761]])}, {'d': 0.0001617564396971968, 'nt': array([[4.21164502],\n",
      "       [2.77316055]])}, {'d': 0.00015626604049396236, 'nt': array([[4.21176216],\n",
      "       [2.77305712]])}, {'d': 0.0001509619985294176, 'nt': array([[4.21187533],\n",
      "       [2.77295721]])}, {'d': 0.00014583798839403036, 'nt': array([[4.21198465],\n",
      "       [2.77286068]])}, {'d': 0.00014088789937907384, 'nt': array([[4.21209026],\n",
      "       [2.77276743]])}, {'d': 0.00013610582818636915, 'nt': array([[4.21219229],\n",
      "       [2.77267735]])}, {'d': 0.00013148607189067142, 'nt': array([[4.21229085],\n",
      "       [2.77259032]])}, {'d': 0.0001270231211379169, 'nt': array([[4.21238607],\n",
      "       [2.77250625]])}, {'d': 0.00012271165357346942, 'nt': array([[4.21247806],\n",
      "       [2.77242503]])}, {'d': 0.00011854652749672619, 'nt': array([[4.21256692],\n",
      "       [2.77234656]])}, {'d': 0.00011452277572999594, 'nt': array([[4.21265277],\n",
      "       [2.77227076]])}, {'d': 0.00011063559968999471, 'nt': array([[4.21273571],\n",
      "       [2.77219754]])}, {'d': 0.00010688036367259399, 'nt': array([[4.21281582],\n",
      "       [2.7721268 ]])}, {'d': 0.00010325258931891691, 'nt': array([[4.21289322],\n",
      "       [2.77205846]])}, {'d': 9.974795027529413e-05, 'nt': array([[4.212968  ],\n",
      "       [2.77199244]])}, {'d': 9.636226703577889e-05, 'nt': array([[4.21304023],\n",
      "       [2.77192866]])}, {'d': 9.309150195739027e-05, 'nt': array([[4.21311002],\n",
      "       [2.77186704]])}, {'d': 8.993175444420327e-05, 'nt': array([[4.21317743],\n",
      "       [2.77180752]])}, {'d': 8.687925629399967e-05, 'nt': array([[4.21324256],\n",
      "       [2.77175002]])}, {'d': 8.393036720800758e-05, 'nt': array([[4.21330547],\n",
      "       [2.77169446]])}, {'d': 8.10815704488236e-05, 'nt': array([[4.21336625],\n",
      "       [2.7716408 ]])}, {'d': 7.8329468643111e-05, 'nt': array([[4.21342497],\n",
      "       [2.77158896]])}, {'d': 7.567077973382992e-05, 'nt': array([[4.21348169],\n",
      "       [2.77153887]])}, {'d': 7.310233306441308e-05, 'nt': array([[4.21353649],\n",
      "       [2.77149049]])}, {'d': 7.062106559872567e-05, 'nt': array([[4.21358943],\n",
      "       [2.77144374]])}, {'d': 6.822401826621038e-05, 'nt': array([[4.21364057],\n",
      "       [2.77139859]])}, {'d': 6.590833243484485e-05, 'nt': array([[4.21368998],\n",
      "       [2.77135497]])}, {'d': 6.367124650131256e-05, 'nt': array([[4.21373771],\n",
      "       [2.77131282]])}, {'d': 6.151009259778121e-05, 'nt': array([[4.21378382],\n",
      "       [2.77127211]])}, {'d': 5.9422293410214034e-05, 'nt': array([[4.21382836],\n",
      "       [2.77123278]])}, {'d': 5.74053591048672e-05, 'nt': array([[4.21387139],\n",
      "       [2.77119479]])}, {'d': 5.545688435815021e-05, 'nt': array([[4.21391296],\n",
      "       [2.77115808]])}, {'d': 5.357454548936379e-05, 'nt': array([[4.21395312],\n",
      "       [2.77112262]])}, {'d': 5.175609768918312e-05, 'nt': array([[4.21399192],\n",
      "       [2.77108837]])}, {'d': 4.9999372343220574e-05, 'nt': array([[4.2140294 ],\n",
      "       [2.77105527]])}, {'d': 4.8302274443716084e-05, 'nt': array([[4.21406561],\n",
      "       [2.7710233 ]])}, {'d': 4.6662780092563844e-05, 'nt': array([[4.21410059],\n",
      "       [2.77099242]])}, {'d': 4.5078934088627794e-05, 'nt': array([[4.21413438],\n",
      "       [2.77096258]])}, {'d': 4.354884759407286e-05, 'nt': array([[4.21416703],\n",
      "       [2.77093376]])}, {'d': 4.2070695882615734e-05, 'nt': array([[4.21419856],\n",
      "       [2.77090591]])}, {'d': 4.064271616510578e-05, 'nt': array([[4.21422903],\n",
      "       [2.77087901]])}, {'d': 3.926320548286343e-05, 'nt': array([[4.21425846],\n",
      "       [2.77085303]])}, {'d': 3.7930518682325623e-05, 'nt': array([[4.2142869 ],\n",
      "       [2.77082792]])}, {'d': 3.6643066448613066e-05, 'nt': array([[4.21431436],\n",
      "       [2.77080367]])}, {'d': 3.539931341359071e-05, 'nt': array([[4.2143409 ],\n",
      "       [2.77078024]])}, {'d': 3.419777632139823e-05, 'nt': array([[4.21436654],\n",
      "       [2.7707576 ]])}, {'d': 3.303702226338113e-05, 'nt': array([[4.2143913 ],\n",
      "       [2.77073574]])}, {'d': 3.191566696442181e-05, 'nt': array([[4.21441522],\n",
      "       [2.77071461]])}, {'d': 3.083237313864674e-05, 'nt': array([[4.21443834],\n",
      "       [2.77069421]])}, {'d': 2.9785848887254744e-05, 'nt': array([[4.21446067],\n",
      "       [2.77067449]])}, {'d': 2.8774846164053657e-05, 'nt': array([[4.21448224],\n",
      "       [2.77065545]])}, {'d': 2.7798159283879523e-05, 'nt': array([[4.21450307],\n",
      "       [2.77063705]])}, {'d': 2.685462348509662e-05, 'nt': array([[4.2145232 ],\n",
      "       [2.77061927]])}, {'d': 2.594311354018607e-05, 'nt': array([[4.21454265],\n",
      "       [2.7706021 ]])}, {'d': 2.506254241657643e-05, 'nt': array([[4.21456144],\n",
      "       [2.77058551]])}, {'d': 2.4211859975947786e-05, 'nt': array([[4.21457959],\n",
      "       [2.77056949]])}, {'d': 2.3390051725205165e-05, 'nt': array([[4.21459712],\n",
      "       [2.77055401]])}, {'d': 2.2596137606081357e-05, 'nt': array([[4.21461406],\n",
      "       [2.77053905]])}, {'d': 2.182917082499473e-05, 'nt': array([[4.21463042],\n",
      "       [2.7705246 ]])}, {'d': 2.1088236724331064e-05, 'nt': array([[4.21464623],\n",
      "       [2.77051065]])}, {'d': 2.0372451694256482e-05, 'nt': array([[4.2146615 ],\n",
      "       [2.77049716]])}, {'d': 1.968096211389214e-05, 'nt': array([[4.21467626],\n",
      "       [2.77048414]])}, {'d': 1.9012943339125758e-05, 'nt': array([[4.21469051],\n",
      "       [2.77047155]])}, {'d': 1.8367598713774913e-05, 'nt': array([[4.21470428],\n",
      "       [2.77045939]])}, {'d': 1.7744158623488186e-05, 'nt': array([[4.21471758],\n",
      "       [2.77044765]])}, {'d': 1.7141879576759006e-05, 'nt': array([[4.21473043],\n",
      "       [2.7704363 ]])}, {'d': 1.656004331627887e-05, 'nt': array([[4.21474284],\n",
      "       [2.77042534]])}, {'d': 1.5997955965608814e-05, 'nt': array([[4.21475484],\n",
      "       [2.77041476]])}, {'d': 1.5454947199610218e-05, 'nt': array([[4.21476642],\n",
      "       [2.77040453]])}, {'d': 1.4930369446139006e-05, 'nt': array([[4.21477761],\n",
      "       [2.77039464]])}, {'d': 1.4423597112087003e-05, 'nt': array([[4.21478842],\n",
      "       [2.7703851 ]])}, {'d': 1.3934025838629195e-05, 'nt': array([[4.21479887],\n",
      "       [2.77037588]])}, {'d': 1.3461071781855811e-05, 'nt': array([[4.21480896],\n",
      "       [2.77036697]])}, {'d': 1.3004170913816916e-05, 'nt': array([[4.21481871],\n",
      "       [2.77035836]])}, {'d': 1.2562778349755683e-05, 'nt': array([[4.21482813],\n",
      "       [2.77035004]])}, {'d': 1.2136367701919997e-05, 'nt': array([[4.21483722],\n",
      "       [2.77034201]])}, {'d': 1.17244304483823e-05, 'nt': array([[4.21484601],\n",
      "       [2.77033425]])}, {'d': 1.1326475326968113e-05, 'nt': array([[4.2148545 ],\n",
      "       [2.77032675]])}, {'d': 1.094202775085076e-05, 'nt': array([[4.21486271],\n",
      "       [2.77031951]])}, {'d': 1.057062924238081e-05, 'nt': array([[4.21487063],\n",
      "       [2.77031252]])}, {'d': 1.0211836884526836e-05, 'nt': array([[4.21487828],\n",
      "       [2.77030576]])}, {'d': 9.86522279505559e-06, 'nt': array([[4.21488568],\n",
      "       [2.77029923]])}, {'d': 9.530373613956853e-06, 'nt': array([[4.21489282],\n",
      "       [2.77029292]])}, {'d': 9.206890012155877e-06, 'nt': array([[4.21489973],\n",
      "       [2.77028683]])}, {'d': 8.894386215078193e-06, 'nt': array([[4.21490639],\n",
      "       [2.77028094]])}, {'d': 8.592489542547533e-06, 'nt': array([[4.21491283],\n",
      "       [2.77027525]])}, {'d': 8.300839962318082e-06, 'nt': array([[4.21491906],\n",
      "       [2.77026976]])}, {'d': 8.019089664037043e-06, 'nt': array([[4.21492507],\n",
      "       [2.77026445]])}, {'d': 7.746902643020457e-06, 'nt': array([[4.21493087],\n",
      "       [2.77025932]])}, {'d': 7.483954297525259e-06, 'nt': array([[4.21493648],\n",
      "       [2.77025437]])}, {'d': 7.229931046823563e-06, 'nt': array([[4.2149419 ],\n",
      "       [2.77024958]])}, {'d': 6.9845299504526224e-06, 'nt': array([[4.21494714],\n",
      "       [2.77024496]])}, {'d': 6.747458351734046e-06, 'nt': array([[4.2149522 ],\n",
      "       [2.77024049]])}, {'d': 6.51843352897079e-06, 'nt': array([[4.21495708],\n",
      "       [2.77023618]])}, {'d': 6.29718235459807e-06, 'nt': array([[4.2149618 ],\n",
      "       [2.77023201]])}, {'d': 6.0834409723352235e-06, 'nt': array([[4.21496637],\n",
      "       [2.77022799]])}, {'d': 5.876954482171233e-06, 'nt': array([[4.21497077],\n",
      "       [2.7702241 ]])}, {'d': 5.6774766364594635e-06, 'nt': array([[4.21497503],\n",
      "       [2.77022034]])}, {'d': 5.484769544001918e-06, 'nt': array([[4.21497914],\n",
      "       [2.77021671]])}, {'d': 5.298603389393344e-06, 'nt': array([[4.21498311],\n",
      "       [2.7702132 ]])}, {'d': 5.118756157457891e-06, 'nt': array([[4.21498695],\n",
      "       [2.77020981]])}, {'d': 4.945013370438294e-06, 'nt': array([[4.21499065],\n",
      "       [2.77020654]])}, {'d': 4.777167827182446e-06, 'nt': array([[4.21499423],\n",
      "       [2.77020338]])}, {'d': 4.6150193622503715e-06, 'nt': array([[4.21499769],\n",
      "       [2.77020032]])}, {'d': 4.458374602574015e-06, 'nt': array([[4.21500104],\n",
      "       [2.77019737]])}, {'d': 4.3070467391007485e-06, 'nt': array([[4.21500427],\n",
      "       [2.77019452]])}, {'d': 4.160855304411229e-06, 'nt': array([[4.21500738],\n",
      "       [2.77019177]])}, {'d': 4.019625955861783e-06, 'nt': array([[4.2150104 ],\n",
      "       [2.77018911]])}, {'d': 3.88319026758031e-06, 'nt': array([[4.21501331],\n",
      "       [2.77018654]])}, {'d': 3.7513855320594264e-06, 'nt': array([[4.21501612],\n",
      "       [2.77018405]])}, {'d': 3.6240545641010443e-06, 'nt': array([[4.21501884],\n",
      "       [2.77018166]])}, {'d': 3.5010455116170864e-06, 'nt': array([[4.21502146],\n",
      "       [2.77017934]])}, {'d': 3.3822116802381908e-06, 'nt': array([[4.215024 ],\n",
      "       [2.7701771]])}, {'d': 3.267411352380077e-06, 'nt': array([[4.21502645],\n",
      "       [2.77017494]])}, {'d': 3.156507621197886e-06, 'nt': array([[4.21502881],\n",
      "       [2.77017285]])}, {'d': 3.049368227083441e-06, 'nt': array([[4.2150311 ],\n",
      "       [2.77017083]])}, {'d': 2.9458653996514378e-06, 'nt': array([[4.21503331],\n",
      "       [2.77016888]])}, {'d': 2.845875705069794e-06, 'nt': array([[4.21503544],\n",
      "       [2.770167  ]])}, {'d': 2.7492798986028005e-06, 'nt': array([[4.2150375 ],\n",
      "       [2.77016518]])}, {'d': 2.655962784262014e-06, 'nt': array([[4.21503949],\n",
      "       [2.77016342]])}, {'d': 2.5658130752432003e-06, 'nt': array([[4.21504141],\n",
      "       [2.77016172]])}, {'d': 2.4787232630007847e-06, 'nt': array([[4.21504327],\n",
      "       [2.77016008]])}, {'d': 2.394589485812389e-06, 'nt': array([[4.21504507],\n",
      "       [2.7701585 ]])}, {'d': 2.313311409585966e-06, 'nt': array([[4.2150468 ],\n",
      "       [2.77015696]])}, {'d': 2.234792105044042e-06, 'nt': array([[4.21504848],\n",
      "       [2.77015549]])}, {'d': 2.1589379336234053e-06, 'nt': array([[4.2150501 ],\n",
      "       [2.77015406]])}, {'d': 2.085658432847062e-06, 'nt': array([[4.21505166],\n",
      "       [2.77015268]])}, {'d': 2.0148662128410175e-06, 'nt': array([[4.21505317],\n",
      "       [2.77015134]])}, {'d': 1.946476850127753e-06, 'nt': array([[4.21505463],\n",
      "       [2.77015005]])}, {'d': 1.8804087854567867e-06, 'nt': array([[4.21505604],\n",
      "       [2.77014881]])}, {'d': 1.8165832282931753e-06, 'nt': array([[4.2150574 ],\n",
      "       [2.77014761]])}, {'d': 1.7549240630695967e-06, 'nt': array([[4.21505872],\n",
      "       [2.77014645]])}, {'d': 1.6953577560262904e-06, 'nt': array([[4.21505999],\n",
      "       [2.77014532]])}, {'d': 1.6378132718642338e-06, 'nt': array([[4.21506121],\n",
      "       [2.77014424]])}, {'d': 1.5822219849339061e-06, 'nt': array([[4.2150624 ],\n",
      "       [2.77014319]])}, {'d': 1.528517598473706e-06, 'nt': array([[4.21506355],\n",
      "       [2.77014218]])}, {'d': 1.4766360671595343e-06, 'nt': array([[4.21506465],\n",
      "       [2.7701412 ]])}, {'d': 1.4265155184786556e-06, 'nt': array([[4.21506572],\n",
      "       [2.77014026]])}, {'d': 1.3780961806657606e-06, 'nt': array([[4.21506676],\n",
      "       [2.77013935]])}, {'d': 1.3313203113048213e-06, 'nt': array([[4.21506775],\n",
      "       [2.77013847]])}, {'d': 1.286132126146943e-06, 'nt': array([[4.21506872],\n",
      "       [2.77013761]])}, {'d': 1.2424777350181466e-06, 'nt': array([[4.21506965],\n",
      "       [2.77013679]])}, {'d': 1.2003050789028731e-06, 'nt': array([[4.21507055],\n",
      "       [2.770136  ]])}, {'d': 1.1595638628167251e-06, 'nt': array([[4.21507142],\n",
      "       [2.77013523]])}, {'d': 1.1202055004898283e-06, 'nt': array([[4.21507226],\n",
      "       [2.77013449]])}, {'d': 1.0821830556610938e-06, 'nt': array([[4.21507307],\n",
      "       [2.77013377]])}, {'d': 1.0454511823949509e-06, 'nt': array([[4.21507385],\n",
      "       [2.77013308]])}, {'d': 1.0099660766987713e-06, 'nt': array([[4.21507461],\n",
      "       [2.77013241]])}, {'d': 9.756854206963025e-07, 'nt': array([[4.21507534],\n",
      "       [2.77013177]])}]\n"
     ]
    }
   ],
   "source": [
    "theta, status = batch_gradient_descent(X, y, n_max=1000, tol=1e-6, eta=0.1)\n",
    "print(theta)\n",
    "print(len(status))\n",
    "print(status)"
   ]
  },
  {
   "cell_type": "markdown",
   "metadata": {},
   "source": [
    "## Batch versus mini-batch versus stochastic gradient descent"
   ]
  },
  {
   "cell_type": "markdown",
   "metadata": {},
   "source": [
    "O algoritmo acima chama-se *batch gradient descent*, pois opera com o lote (*batch*) completo de amostras de treinamento de uma vez só. Mas pense um pouco: será que precisamos de todas as amostras de treinamento para calcular um gradiente razoável? Considere os cenários a seguir:\n",
    "\n",
    "- Calcular o gradiente do erro usando todas as amostras de um conjunto de treinamento com centenas de milhares de amostras.\n",
    "\n",
    "- Calcular o gradiente do erro usando metade deste mesmo conjunto de treinamento.\n",
    "\n",
    "Certamente o segundo caso não vai retornar o \"melhor\" gradiente, mas vai retornar algo muito próximo com um custo *MUITO* menor! Outra consideração, até mais importante: *O CONJUNTO DE TREINAMENTO PODE NEM CABER NA MEMÓRIA RAM*!\n",
    "\n",
    "Este *insight* leva ao método *mini-batch gradient descent*: ao invés de trabalhar com o conjunto completo de treinamento de uma vez só, trabalhe com ele por pedaços, rotacionando o pedaço usado a cada iteração do algoritmo.\n",
    "\n",
    "O algoritmo então fica assim:\n",
    "\n",
    "- $acabou \\leftarrow Falso$\n",
    "- $epoch \\leftarrow 0$\n",
    "- enquanto não $acabou$:\n",
    "    - $\\theta_{novo} \\leftarrow \\theta$\n",
    "    - Para cada *mini-batch* $(\\mathbf{X}_{b}, \\mathbf{y}_{b})$ de $(\\mathbf{X}, \\mathbf{y})$:\n",
    "        - $\\theta_{novo} \\leftarrow \\theta_{novo} - \\eta \\nabla_{\\theta_{novo}} \\varepsilon^2\\left(\\mathbf{X}_{b}, \\mathbf{y}_{b}, \\theta_{novo}\\right)$\n",
    "    - $epoch \\leftarrow epoch + 1$\n",
    "    - se $\\left| \\, \\theta - \\theta_{novo} \\, \\right| < \\epsilon$ ou $epoch > N_{\\text{max}}$:\n",
    "        - $acabou \\leftarrow Verdadeiro$\n",
    "    - $\\theta \\leftarrow \\theta_{novo}$\n",
    "- retorna $\\theta$\n",
    "\n",
    "Cada passagem completa por todos os *mini-batches* (ou seja, um passo pelo *batch* completo) chama-se *epoch* no linguajar de machine learning.\n",
    "\n",
    "No caso limite em que o tamanho do *mini-batch* é $1$ (!!!), mas a amostra é escolhida ao acaso (ao invés de passar por todas as amostras), temos o algoritmo *stochastic gradient descent*."
   ]
  },
  {
   "cell_type": "code",
   "execution_count": 18,
   "metadata": {
    "tags": []
   },
   "outputs": [
    {
     "data": {
      "text/plain": [
       "array([[4.3594589 ],\n",
       "       [2.74329634]])"
      ]
     },
     "execution_count": 18,
     "metadata": {},
     "output_type": "execute_result"
    }
   ],
   "source": [
    "def mini_batch_gradient_descent(\n",
    "    X,\n",
    "    y,\n",
    "    gradient=gradient_mse,\n",
    "    n_max=100,\n",
    "    tol=1e-3,\n",
    "    eta=1e-3,\n",
    "    batch_size=32,\n",
    "):\n",
    "    theta = np.zeros((2, 1))\n",
    "    m = X.shape[0]\n",
    "    num_batches = ((m - 1) // batch_size) + 1\n",
    "    X_b = np.c_[np.ones((m, 1)), X]\n",
    "    done = False\n",
    "    epoch = 0\n",
    "    while not done:\n",
    "        new_theta = theta\n",
    "        for batch in range(num_batches):\n",
    "            start = batch * batch_size\n",
    "            end = (batch + 1) * batch_size\n",
    "            if end > m:\n",
    "                end = m\n",
    "            X_batch = X_b[start:end, :]\n",
    "            y_batch = y[start:end]\n",
    "            new_theta = new_theta - eta * gradient(X_batch, y_batch, new_theta)\n",
    "        epoch += 1\n",
    "        mag_diff = norm(new_theta - theta)\n",
    "        if (mag_diff < tol) or (epoch >= n_max):\n",
    "            done = True\n",
    "        theta = new_theta\n",
    "    return theta\n",
    "\n",
    "\n",
    "theta = mini_batch_gradient_descent(X, y, n_max=1000, tol=1e-6, eta=0.1)\n",
    "theta"
   ]
  },
  {
   "cell_type": "markdown",
   "metadata": {
    "tags": []
   },
   "source": [
    "\n",
    "\n",
    "# Regressão polinomial"
   ]
  },
  {
   "cell_type": "markdown",
   "metadata": {},
   "source": [
    "E se os dados não se ajustam a uma linha reta (ou um hiperplano, no caso geral)? Considere o seguinte problema:"
   ]
  },
  {
   "cell_type": "code",
   "execution_count": 19,
   "metadata": {
    "tags": []
   },
   "outputs": [],
   "source": [
    "np.random.seed(42)\n",
    "\n",
    "# Vamos gerar m = 100 amostras de exemplo.\n",
    "m = 100\n",
    "\n",
    "# As coordenadas x são geradas aleatoriamente entre -3 e 3.\n",
    "X = 6 * np.random.rand(m, 1) - 3\n",
    "\n",
    "# Computando os valores de y\n",
    "y = 0.5 * X**2 + X + 2\n",
    "\n",
    "# Adicionando ruido.\n",
    "y += 1.0 * np.random.randn(m, 1)"
   ]
  },
  {
   "cell_type": "code",
   "execution_count": 20,
   "metadata": {},
   "outputs": [
    {
     "data": {
      "image/png": "[encoded data removed]",
      "text/plain": [
       "<Figure size 576x432 with 1 Axes>"
      ]
     },
     "metadata": {
      "needs_background": "light"
     },
     "output_type": "display_data"
    }
   ],
   "source": [
    "plt.figure(figsize=(8, 6))\n",
    "plt.plot(X, y, \"b.\")\n",
    "plt.xlabel(\"$x_1$\", fontsize=18)\n",
    "plt.ylabel(\"$y$\", rotation=0, fontsize=18)\n",
    "plt.axis([-3, 3, 0, 10])\n",
    "plt.title('Amostras aleatórias')\n",
    "plt.show()"
   ]
  },
  {
   "cell_type": "markdown",
   "metadata": {},
   "source": [
    "Obviamente não podemos atingir um bom *fit* com uma linha reta! A solução para nosso problema é criar novas *features* com valores polinomiais:"
   ]
  },
  {
   "cell_type": "code",
   "execution_count": 21,
   "metadata": {},
   "outputs": [
    {
     "name": "stdout",
     "output_type": "stream",
     "text": [
      "Tamanho original da matriz de amostras: (100, 1)\n",
      "Algumas das amostras originais:\n",
      "[[-0.75275929]\n",
      " [ 2.70428584]\n",
      " [ 1.39196365]\n",
      " [ 0.59195091]\n",
      " [-2.06388816]]\n"
     ]
    }
   ],
   "source": [
    "print(f'Tamanho original da matriz de amostras: {X.shape}')\n",
    "print(f'Algumas das amostras originais:\\n{X[:5]}')"
   ]
  },
  {
   "cell_type": "code",
   "execution_count": 22,
   "metadata": {},
   "outputs": [
    {
     "name": "stdout",
     "output_type": "stream",
     "text": [
      "Tamanho da matriz de amostras aumentada: (100, 3)\n",
      "Algumas das amostras da matriz aumentada:\n",
      "[[ 1.         -0.75275929  0.56664654]\n",
      " [ 1.          2.70428584  7.3131619 ]\n",
      " [ 1.          1.39196365  1.93756281]\n",
      " [ 1.          0.59195091  0.35040587]\n",
      " [ 1.         -2.06388816  4.25963433]]\n"
     ]
    }
   ],
   "source": [
    "# Adicionando uma coluna de 1s e uma coluna de x**2.\n",
    "X_b = np.c_[np.ones((m, 1)), X, X**2]\n",
    "\n",
    "print(f'Tamanho da matriz de amostras aumentada: {X_b.shape}')\n",
    "print(f'Algumas das amostras da matriz aumentada:\\n{X_b[:5]}')"
   ]
  },
  {
   "cell_type": "markdown",
   "metadata": {},
   "source": [
    "Usamos novamente a equação normal para achar os parâmetros ótimos (ou o gradient descent também serve!)"
   ]
  },
  {
   "cell_type": "code",
   "execution_count": 23,
   "metadata": {},
   "outputs": [
    {
     "data": {
      "text/plain": [
       "array([[1.78134581],\n",
       "       [0.93366893],\n",
       "       [0.56456263]])"
      ]
     },
     "execution_count": 23,
     "metadata": {},
     "output_type": "execute_result"
    }
   ],
   "source": [
    "theta_best = np.linalg.inv(X_b.T.dot(X_b)).dot(X_b.T).dot(y)\n",
    "theta_best"
   ]
  },
  {
   "cell_type": "markdown",
   "metadata": {},
   "source": [
    "Agora vamos ver como ficou nosso *fit*:"
   ]
  },
  {
   "cell_type": "code",
   "execution_count": 24,
   "metadata": {},
   "outputs": [
    {
     "data": {
      "image/png": "[encoded data removed]",
      "text/plain": [
       "<Figure size 576x432 with 1 Axes>"
      ]
     },
     "metadata": {
      "needs_background": "light"
     },
     "output_type": "display_data"
    }
   ],
   "source": [
    "X_test = np.linspace(-3, 3, num=100).T\n",
    "X_test_b = np.c_[np.ones((m, 1)), X_test, X_test**2]\n",
    "y_test = X_test_b.dot(theta_best)\n",
    "\n",
    "plt.figure(figsize=(8, 6))\n",
    "plt.plot(X, y, \"b.\")\n",
    "plt.plot(X_test, y_test, \"r-\")\n",
    "plt.xlabel(\"$x_1$\", fontsize=18)\n",
    "plt.ylabel(\"$y$\", rotation=0, fontsize=18)\n",
    "plt.axis([-3, 3, 0, 10])\n",
    "plt.title('Ajuste de modelo quadrático')\n",
    "plt.show()"
   ]
  },
  {
   "cell_type": "markdown",
   "metadata": {},
   "source": [
    "Para criar *features* polinomiais de um grau qualquer em scikit-learn podemos usar a classe ``PolynomialFeatures``:"
   ]
  },
  {
   "cell_type": "code",
   "execution_count": 25,
   "metadata": {},
   "outputs": [
    {
     "name": "stdout",
     "output_type": "stream",
     "text": [
      "(100, 1)\n",
      "(100, 2)\n"
     ]
    }
   ],
   "source": [
    "from sklearn.preprocessing import PolynomialFeatures\n",
    "\n",
    "# Nota: include_bias=False porque o bias (termo constante) já estará incluso \n",
    "# no regressor linear.\n",
    "poly_features = PolynomialFeatures(degree=2, include_bias=False)\n",
    "X_poly = poly_features.fit_transform(X)\n",
    "\n",
    "print(X.shape)\n",
    "print(X_poly.shape)"
   ]
  },
  {
   "cell_type": "code",
   "execution_count": 26,
   "metadata": {},
   "outputs": [
    {
     "name": "stdout",
     "output_type": "stream",
     "text": [
      "[-0.75275929]\n",
      "[-0.75275929  0.56664654]\n"
     ]
    }
   ],
   "source": [
    "print(X[0])\n",
    "print(X_poly[0])"
   ]
  },
  {
   "cell_type": "markdown",
   "metadata": {},
   "source": [
    "Podemos então fazer um regressor linear com estes novos dados:"
   ]
  },
  {
   "cell_type": "code",
   "execution_count": 27,
   "metadata": {},
   "outputs": [
    {
     "data": {
      "text/plain": [
       "(array([1.78134581]), array([[0.93366893, 0.56456263]]))"
      ]
     },
     "execution_count": 27,
     "metadata": {},
     "output_type": "execute_result"
    }
   ],
   "source": [
    "lin_reg = LinearRegression()\n",
    "lin_reg.fit(X_poly, y)\n",
    "lin_reg.intercept_, lin_reg.coef_"
   ]
  },
  {
   "cell_type": "markdown",
   "metadata": {},
   "source": [
    "Compare os resultados obtidos aqui com aqueles da equação normal obtidos anteriormente.\n",
    "\n",
    "Assim como o uso de *features* polinomiais leva a um modelo com melhor ajuste, podemos também usar outras funções como *features*, tais como $\\text{log}()$, $\\text{sin}()$, etc."
   ]
  },
  {
   "cell_type": "markdown",
   "metadata": {},
   "source": [
    "# Overfitting versus underfitting"
   ]
  },
  {
   "cell_type": "markdown",
   "metadata": {},
   "source": [
    "O que acontece se o grau do *fit* polinomial for muito baixo? E se for muito alto? Vamos experimentar um pouco:"
   ]
  },
  {
   "cell_type": "code",
   "execution_count": 28,
   "metadata": {},
   "outputs": [
    {
     "data": {
      "image/png": "[encoded data removed]",
      "text/plain": [
       "<Figure size 576x432 with 1 Axes>"
      ]
     },
     "metadata": {
      "needs_background": "light"
     },
     "output_type": "display_data"
    }
   ],
   "source": [
    "from sklearn.preprocessing import StandardScaler\n",
    "from sklearn.pipeline import Pipeline\n",
    "\n",
    "plt.figure(figsize=(8, 6))\n",
    "plt.plot(X, y, \"b.\", linewidth=3)\n",
    "plt.title('Amostras aleatórias')\n",
    "plt.show()"
   ]
  },
  {
   "cell_type": "code",
   "execution_count": 29,
   "metadata": {},
   "outputs": [],
   "source": [
    "def plot_model(X_test, y_test, degree):\n",
    "    plt.figure(figsize=(8, 6))\n",
    "    plt.plot(X, y, \"b.\", linewidth=3)\n",
    "    plt.plot(X_test, y_test, 'r-', label=f'grau {degree}')\n",
    "    plt.legend(loc=\"upper left\")\n",
    "    plt.xlabel(\"$x_1$\", fontsize=18)\n",
    "    plt.ylabel(\"$y$\", rotation=0, fontsize=18)\n",
    "    plt.axis([-3, 3, 0, 10])\n",
    "    plt.title(f'Modelo de grau {degree}')\n",
    "    plt.show()"
   ]
  },
  {
   "cell_type": "code",
   "execution_count": 30,
   "metadata": {},
   "outputs": [
    {
     "data": {
      "image/png": "[encoded data removed]",
      "text/plain": [
       "<Figure size 576x432 with 1 Axes>"
      ]
     },
     "metadata": {
      "needs_background": "light"
     },
     "output_type": "display_data"
    },
    {
     "data": {
      "image/png": "[encoded data removed]",
      "text/plain": [
       "<Figure size 576x432 with 1 Axes>"
      ]
     },
     "metadata": {
      "needs_background": "light"
     },
     "output_type": "display_data"
    },
    {
     "data": {
      "image/png": "[encoded data removed]",
      "text/plain": [
       "<Figure size 576x432 with 1 Axes>"
      ]
     },
     "metadata": {
      "needs_background": "light"
     },
     "output_type": "display_data"
    }
   ],
   "source": [
    "# Experimento 1: grau baixo.\n",
    "poly_reg_1 = Pipeline([\n",
    "    (\"poly_features\", PolynomialFeatures(degree=1, include_bias=False)),\n",
    "    (\"std_scaler\", StandardScaler()),\n",
    "    (\"lin_reg\", LinearRegression()),\n",
    "])\n",
    "poly_reg_1.fit(X, y)\n",
    "y_test_1 = poly_reg_1.predict(X_test.reshape(-1, 1))\n",
    "\n",
    "plot_model(X_test, y_test_1, 1)\n",
    "\n",
    "# Experimento 2: grau adequado.\n",
    "poly_reg_2 = Pipeline([\n",
    "    (\"poly_features\", PolynomialFeatures(degree=2, include_bias=False)),\n",
    "    (\"std_scaler\", StandardScaler()),\n",
    "    (\"lin_reg\", LinearRegression()),\n",
    "])\n",
    "poly_reg_2.fit(X, y)\n",
    "y_test_2 = poly_reg_2.predict(X_test.reshape(-1, 1))\n",
    "\n",
    "plot_model(X_test, y_test_2, 2)\n",
    "\n",
    "# Experimento 3: grau muito alto.\n",
    "poly_reg_30 = Pipeline([\n",
    "    (\"poly_features\", PolynomialFeatures(degree=30, include_bias=False)),\n",
    "    (\"std_scaler\", StandardScaler()),\n",
    "    (\"lin_reg\", LinearRegression()),\n",
    "])\n",
    "poly_reg_30.fit(X, y)\n",
    "y_test_30 = poly_reg_30.predict(X_test.reshape(-1, 1))\n",
    "\n",
    "plot_model(X_test, y_test_30, 30)"
   ]
  },
  {
   "cell_type": "code",
   "execution_count": 31,
   "metadata": {},
   "outputs": [
    {
     "data": {
      "image/png": "[encoded data removed]",
      "text/plain": [
       "<Figure size 576x432 with 1 Axes>"
      ]
     },
     "metadata": {
      "needs_background": "light"
     },
     "output_type": "display_data"
    }
   ],
   "source": [
    "plt.figure(figsize=(8, 6))\n",
    "plt.plot(X, y, \"b.\", linewidth=3)\n",
    "plt.plot(X_test, y_test_1, 'r-', label='grau 1')\n",
    "plt.plot(X_test, y_test_2, 'b-', label='grau 2')\n",
    "plt.plot(X_test, y_test_30, 'k-', label='grau 30')\n",
    "plt.legend(loc=\"upper left\")\n",
    "plt.xlabel(\"$x_1$\", fontsize=18)\n",
    "plt.ylabel(\"$y$\", rotation=0, fontsize=18)\n",
    "plt.axis([-3, 3, 0, 10])\n",
    "plt.title('Todos os modelos')\n",
    "plt.show()"
   ]
  },
  {
   "cell_type": "markdown",
   "metadata": {},
   "source": [
    "A curva preta, correspondente ao *fit* de grau 30, apresenta *overfitting*. Ao tentar se ajustar o melhor possível aos pontos de dados, a curva tende a apresentar comportamento exagerado fora destes. \n",
    "\n",
    "Uma característica marcante do *overfitting* é que o sistema perde sua capacidade de fazer predições de boa qualidade quando não está na vizinhança de um ponto de treinamento. Dizemos que o sistema não **generaliza** bem. Para observar a capacidade de generalização de um sistema podemos usar a estratégia de validação cruzada e obter uma medida mais realista do RMSE do classificador:"
   ]
  },
  {
   "cell_type": "code",
   "execution_count": 32,
   "metadata": {},
   "outputs": [
    {
     "name": "stdout",
     "output_type": "stream",
     "text": [
      "Fit de grau 1:\n",
      "RMSE = [1.86571015 1.61846216 1.82661634 1.62718083 1.78619243]\n",
      "média = 1.744832382371205, std = 0.10278329304877659\n",
      "Fit de grau 2:\n",
      "RMSE = [0.72745407 0.91894263 1.05905595 0.90376746 0.96825693]\n",
      "média = 0.9154954107199845, std = 0.10853789964899936\n",
      "Fit de grau 30:\n",
      "RMSE = [  1.6669169    1.46233744   1.40230624 285.93467865   1.28031972]\n",
      "média = 58.34931178825332, std = 113.7927521823784\n"
     ]
    }
   ],
   "source": [
    "from sklearn.model_selection import cross_val_score\n",
    "\n",
    "\n",
    "def experiment(reg, X, y, degree):\n",
    "    scores = np.sqrt(-cross_val_score(\n",
    "        reg,\n",
    "        X,\n",
    "        y,\n",
    "        cv=5,\n",
    "        scoring='neg_mean_squared_error',\n",
    "    ))\n",
    "    print(f'Fit de grau {degree}:')\n",
    "    print(f'RMSE = {scores}')\n",
    "    print(f'média = {scores.mean()}, std = {scores.std()}')\n",
    "\n",
    "\n",
    "experiments = (\n",
    "    (1, poly_reg_1),\n",
    "    (2, poly_reg_2),\n",
    "    (30, poly_reg_30),\n",
    ")\n",
    "\n",
    "for degree, regressor in experiments:\n",
    "    experiment(regressor, X, y, degree)"
   ]
  },
  {
   "cell_type": "markdown",
   "metadata": {},
   "source": [
    "Note que o erro de treinamento conta uma história diferente:"
   ]
  },
  {
   "cell_type": "code",
   "execution_count": 33,
   "metadata": {
    "tags": []
   },
   "outputs": [
    {
     "name": "stdout",
     "output_type": "stream",
     "text": [
      "Fit de grau 1: RMSE = 1.739127354922467\n",
      "Fit de grau 2: RMSE = 0.8815858814376718\n",
      "Fit de grau 30: RMSE = 0.7796340942366056\n",
      "Modelo de grau 1: intercept = [3.41307859], coefs = [[1.49826128]]\n",
      "Modelo de grau 2: intercept = [3.41307859], coefs = [[1.65818609 1.50762934]]\n",
      "Modelo de grau 30: intercept = [3.41307839], coefs = [[ 4.91098879e+00  4.94686524e+01 -2.40069181e+02 -2.92827438e+03\n",
      "   8.24030461e+03  7.58970851e+04 -1.47538188e+05 -1.08500276e+06\n",
      "   1.54671928e+06  9.64542318e+06 -1.03275177e+07 -5.70605906e+07\n",
      "   4.64881901e+07  2.34262802e+08 -1.46250906e+08 -6.84886729e+08\n",
      "   3.28057061e+08  1.44525990e+09 -5.28052286e+08 -2.20663729e+09\n",
      "   6.05546120e+08  2.41424528e+09 -4.82903948e+08 -1.84479929e+09\n",
      "   2.54483302e+08  9.34697922e+08 -7.96619467e+07 -2.82094869e+08\n",
      "   1.12147496e+07  3.83794307e+07]]\n"
     ]
    }
   ],
   "source": [
    "from sklearn.metrics import mean_squared_error\n",
    "\n",
    "\n",
    "def final_train_error(X, y, reg):\n",
    "    reg.fit(X, y)\n",
    "    y_pred = reg.predict(X)  # Sim, estou predizendo no conjunto de treinamento.\n",
    "    return np.sqrt(mean_squared_error(y_pred, y))\n",
    "\n",
    "\n",
    "def params_to_str(pipeline):\n",
    "    aux = pipeline.named_steps['lin_reg']\n",
    "    return 'intercept = {}, coefs = {}'.format(aux.intercept_, aux.coef_)\n",
    "\n",
    "\n",
    "for degree, regressor in experiments:\n",
    "    train_error = final_train_error(X, y, regressor)\n",
    "    print(f'Fit de grau {degree}: RMSE = {train_error}')\n",
    "\n",
    "for degree, regressor in experiments:\n",
    "    print(f'Modelo de grau {degree}: {params_to_str(regressor)}')"
   ]
  },
  {
   "cell_type": "markdown",
   "metadata": {},
   "source": [
    "Podemos aqui observar uma característica marcante do *overfitting* versus *underfitting*:\n",
    "\n",
    "- **overfitting**: \n",
    "    - O modelo é **complexo demais** (permite sobreajuste, ou *overfitting*)\n",
    "    - erro de treinamento **baixo**\n",
    "    - erro médio de teste **geralmente alto** (mas **ocasionalmente baixo**)\n",
    "    - **variância alta** do erro de teste\n",
    "    \n",
    "- **underfitting**:\n",
    "    - O modelo é **simples demais** (não permite bom ajuste)\n",
    "    - erro de treinamento **alto**\n",
    "    - erro de teste **consistentemente alto**\n",
    "    - **variância baixa** do erro de teste"
   ]
  },
  {
   "cell_type": "markdown",
   "metadata": {},
   "source": [
    "### Regressor ótimo"
   ]
  },
  {
   "cell_type": "markdown",
   "metadata": {},
   "source": [
    "E agora, um pouco de Matemática!\n",
    "\n",
    "Para um dado valor de $\\mathbf{x}$, qual é o valor ideal de $h(\\mathbf{x})$? Depende do que a gente define por \"ideal\". \n",
    "\n",
    "Vamos supor que a definição de \"ideal\" é dada pelo RMSE. Minimizar o RMSE é a mesma coisa que minimizar o MSE (Minimum Squared Error):\n",
    "\n",
    "$$\n",
    "\\text{MSE} = \\frac{1}{m} \\sum_{i=1}^{m}\\left(h(\\mathbf{x}_i) - \\mathbf{y}_i\\right)^{2}\n",
    "$$\n",
    "\n",
    "Para atingir o mínimo do MSE devemos escolher uma $h(\\mathbf{x})$ que minimize $(h(\\mathbf{x}) - y)^2$ para qualquer valor dado de $\\mathbf{x}$. Mas veja só o problema: se para um dado $\\mathbf{x}$ só tivéssemos uma única possibilidade para $y$, o nosso problema estaria resolvido! Bastaria fazer o $h(\\mathbf{x})$ valer aquele $y$ e pronto! Só que o mundo real tem incertezas, ruído e variabilidade na aquisição de nossos vários $\\mathbf{x}_i$ e $y_i$, então não podemos afirmar categoricamente que para cada $\\mathbf{x}$ só existirá um único $y$, eterno e imutável...\n",
    "\n",
    "Pense assim: agora observamos que para um certo vetor $\\mathbf{x}$ medido, também medimos um valor $y$. Só que na sequência medimos de novo um valor de $y$ para esse mesmo $\\mathbf{x}$ e dá um valor um pouquinho diferente, por conta do ruído e outras incertezas!\n",
    "\n",
    "Matematicamente, dizemos que cada uma de nossas amostras $(\\mathbf{x}_i, y_i)$ foi obtida de um vetor aleatório (ou seja, um vetor de variáveis aleatórias) $(X, Y)$. Quando dizemos que existe incerteza em $y$ para um dado $\\mathbf{x}$, estamos dizendo que existe uma distribuição aleatória de valores de $y$ para este valor de $\\mathbf{x}$, ou seja, existe uma distribuição $P(Y | X=\\mathbf{x})$.\n",
    "\n",
    "Por exemplo, na figura a seguir temos uma situação em que foram observados os pontos em vermelho. Estes pontos foram gerados artificialmente assim:\n",
    "\n",
    "- Foram escolhidos pontos $x$ ao acaso entre $0$ e $10$\n",
    "\n",
    "- Para cada $x$ obtem-se um $y$ a partir de um polinomio de terceiro grau (curva em azul) ao qual se adicionou um valor aleatório amostrado de uma distribuição normal $N(\\mu=0, \\sigma=0.5)$.\n",
    "\n",
    "- Os pontos assim obtidos estão desenhados em vermelho.\n",
    "\n",
    "São dados *fake*, só para a gente estudar esse problema.\n",
    "\n",
    "![Ilustração P(Y | X=x)](y_for_x.png \"Ilustração P(Y | X=x)\")\n",
    "\n",
    "(Curiosamente, parece que a curva em azul é um excelente interpolador, ou seja, um candidato ideal para $h(\\mathbf{x})$! Isso não é um acidente, e vamos provar isso logo a seguir!)\n",
    "\n",
    "Vamos nos concentrar no valor $x = 6.2$, para efeito de exemplo. Qual a distribuição dos valores de $y$? Conforme visto no nosso processo artificial de geração dos pontos de exemplo, esperamos que a distribuição dos pontos de $y$ seja uma Gaussiana com média igual ao valor do polinômio azul ($4.48$), e desvio padrão valendo $0.5$. Isto está ilustrado na figura da direita.\n",
    "\n",
    "Então a frase \n",
    "\n",
    "- \"devemos minimizar $(h(\\mathbf{x}) - y)^2$\" \n",
    "\n",
    "não faz sentido (pois $y$ não é um valor único, é uma distribuição de valores), mas sim \n",
    "\n",
    "- \"devemos minimizar $E_{Y | X = \\mathbf{x}}[(h(X) - Y)^2]$\"\n",
    "\n",
    "onde o subscrito $Y | X = \\mathbf{x}$ no operador de esperança indica que estamos obtendo o valor esperado da expressão $(h(X) - Y)^2$ em relação à variável aleatória $Y$, no caso em que a variável aleatória $X$ vale $\\mathbf{x}$.\n",
    "\n",
    "Para simplificar a notação, vamos chamar de $\\hat{y} = h(\\mathbf{x})$ o valor estimado de $y$ em $\\mathbf{x}$. Vamos também chamar de $\\overline{y}$ o valor esperado de $Y$ dado $X = \\mathbf{x}$, ou seja, $\\overline{y} = E_{Y | X = \\mathbf{x}}[Y]$.\n",
    "\n",
    "Temos o seguinte:\n",
    "\n",
    "\\begin{align*}\n",
    "E_{Y | X = \\mathbf{x}}[(h(X) - Y)^2] & = E_{Y | X = \\mathbf{x}}[(h(\\mathbf{x}) - Y)^2] \n",
    "& \\,\\, \\text{(Pois $X$ vale $\\mathbf{x}$)} \\\\\n",
    "& = E_{Y | X = \\mathbf{x}}[(\\hat{y} - Y)^2]\n",
    "& \\,\\, \\text{(Pois $h(\\mathbf{x}) = \\hat{y}$)} \\\\\n",
    "& = E_{Y | X = \\mathbf{x}}[((\\hat{y} - \\overline{y}) - (Y - \\overline{y}))^2]\n",
    "& \\,\\, \\text{(Subtraindo e somando $\\overline{y}$)} \\\\\n",
    "& = E_{Y | X = \\mathbf{x}}[\n",
    "    (\\hat{y} - \\overline{y})^2 \n",
    "    + (Y - \\overline{y})^2 \n",
    "    - 2 (\\hat{y} - \\overline{y}) (Y - \\overline{y})]\n",
    "& \\,\\, \\text{(Produto notável)} \\\\\n",
    "& = E_{Y | X = \\mathbf{x}}[(\\hat{y} - \\overline{y})^2] \n",
    "& \\,\\, \\text{(Linearidade da esperança)} \\\\\n",
    "& \\phantom{ = }  + E_{Y | X = \\mathbf{x}}[(Y - \\overline{y})^2] \\\\\n",
    "& \\phantom{ = }  - 2 E_{Y | X = \\mathbf{x}}[(\\hat{y} - \\overline{y}) (Y - \\overline{y})] \\\\\n",
    "& = (\\hat{y} - \\overline{y})^2 \n",
    "& \\,\\, \\text{(Pois $\\hat{y}$ e $\\overline{y}$ são constantes)} \\\\\n",
    "& \\phantom{ = }  + \\text{Var}(Y | X = \\mathbf{x})\n",
    "& \\,\\, \\text{(Definição de variância)} \\\\\n",
    "& \\phantom{ = }  - 2 (\\hat{y} - \\overline{y}) (E_{Y | X = \\mathbf{x}}[Y] - \\overline{y})\n",
    "& \\,\\, \\text{(Pois $\\hat{y}$ e $\\overline{y}$ são constantes)} \\\\\n",
    "& = (\\hat{y} - \\overline{y})^2 + \\text{Var}(Y | X = \\mathbf{x})\n",
    "& \\,\\, \\text{(Pois $E_{Y | X = \\mathbf{x}}[Y] - \\overline{y} = 0$)} \\\\\n",
    "\\end{align*}\n",
    "\n",
    "Lembre-se: nosso objetivo é definir qual o melhor valor de $\\hat{y}$. Como nada se pode fazer sobre $\\text{Var}(Y | X = \\mathbf{x})$, só nos resta minimizar o termo $(\\hat{y} - \\overline{y})^2$. Isso é trivial: basta fazer $\\hat{y} = \\overline{y}$. Lembrando que $\\hat{y} = h(\\mathbf{x})$, chegamos ao nosso resultado final:\n",
    "\n",
    "**O regressor que minimiza o valor esperado do RMSE é $h(\\mathbf{x}) = \\text{Média}(Y | X = \\mathbf{x})$**\n",
    "\n",
    "Ou seja, a melhor estimativa de $y$ em $\\mathbf{x}$ é o valor médio de $y$ naquele ponto.\n",
    "\n",
    "Lembra-se que eu disse na aula 2 que se a gente trocasse a função quadrado por módulo dava outro resultado? Pois fica aqui a afirmação (sem demonstração no momento) sobre o melhor regressor nessas condições:\n",
    "\n",
    "**O regressor que minimiza o erro absoluto médio é $h(\\mathbf{x}) = \\text{Mediana}(Y | X = \\mathbf{x})$**"
   ]
  },
  {
   "cell_type": "markdown",
   "metadata": {},
   "source": [
    "### *Overfitting* e *underfitting* versus regressor ótimo"
   ]
  },
  {
   "cell_type": "markdown",
   "metadata": {},
   "source": [
    "Agora que conhecemos o regressor ótimo, vamos compará-lo no dataset artificial acima aos regressores polinomiais de grau 1 (muito baixo), grau 3 (ideal, pois coincide com o regressor ótimo para este dataset artificial) e grau 8 (muito alto).\n",
    "\n",
    "Geramos tres datasets diferentes para treinamento e um extra para teste, todos com a mesma estratégia acima (polinômio de grau 3, ao qual adicionamos ruido gaussiano).\n",
    "\n",
    "#### Fit linear - underfitting\n",
    "\n",
    "Vemos abaixo o resultado do fit linear para estes dados. As linhas sólidas coloridas representam o fit linear, enquando a linha tracejada preta demonstra o modelo ideal (o regressor ótimo).\n",
    "\n",
    "![fit grau 1](fit_grau_1.png \"fit grau 1\")\n",
    "\n",
    "Observe que todos os regressores lineares são próximos entre si, e todos falham em se ajustar bem aos dados por não terem liberdade suficiente para fazê-lo. Esta é uma característica do *underfitting*: os regressores ficam todos parecidos, e igualmente ruins.\n",
    "\n",
    "#### Fit polinomial de grau 3 - perto do ideal\n",
    "\n",
    "Vemos abaixo o resultado do ajuste polinomial de grau 3 para estes dados.\n",
    "\n",
    "![fit grau 3](fit_grau_3.png \"fit grau 3\")\n",
    "\n",
    "Observe que todos os regressores são próximos entre si, e também próximos do regressor ideal. Esta é uma caraterística que indica que estamos próximos do modelo de regressor ideal: todos os regressores ajustados são similares, e o erro de teste médio é o menor que se pode obter.\n",
    "\n",
    "#### Fit polinomial de grau 8 - overfitting\n",
    "\n",
    "Vemos abaixo o resultado do ajuste polinomial de grau 8 para estes dados.\n",
    "\n",
    "![fit grau 1](fit_grau_8.png \"fit grau 8\")\n",
    "\n",
    "Note que os vários regressores se ajustam bem aos pontos dos conjuntos de treinamento, mas diferem bastante entre si. Isto acontece justamente porque estes regressores se ajustaram tão bem aos dados de treinamento, incorporando a variabilidade de dados que se deve ao ruído, e não ao polinômio de grau 3 subjacente.\n",
    "\n",
    "#### Comparação entre os modelos\n",
    "\n",
    "Observe um *zoom* dos gráficos acima comparando os vários modelos:\n",
    "\n",
    "![comparação](comparacao_fits.png \"comparação entre fits\")\n",
    "\n",
    "---\n",
    "\n",
    "**Atividade:**\n",
    "\n",
    "Escreva, em suas palavras, uma análise comparativa simples entre os três cenários do gráfico de comparação acima."
   ]
  },
  {
   "cell_type": "markdown",
   "metadata": {},
   "source": [
    "**R:**\n",
    "\n",
    "```\n",
    "\n",
    "\n",
    "\n",
    "\n",
    "\n",
    "\n",
    "\n",
    "\n",
    "\n",
    "\n",
    "\n",
    "```\n",
    "\n",
    "---"
   ]
  },
  {
   "cell_type": "markdown",
   "metadata": {},
   "source": [
    "### *Bias/variance tradeoff*"
   ]
  },
  {
   "cell_type": "markdown",
   "metadata": {},
   "source": [
    "Seja $\\mathbf{D}$ um conjunto de treinamento de nosso modelo, com $m$ amostras de treinamento.\n",
    "\n",
    "Primeiro, observamos o seguinte: para cada possível conjunto de treinamento $\\mathbf{D}$ temos um vetor de parâmetros $\\mathbf{\\theta}_{\\mathbf{D}}$ diferente, e consequentemente um modelo $h_{\\mathbf{\\theta}_{\\mathbf{D}}}(\\mathbf{x})$ diferente. (Vimos isso acima quando obtemos regressores diferentes para conjuntos de treinamento diferentes.)\n",
    "\n",
    "Logo, para um determinado valor de $\\mathbf{x}$, temos que **$h_{\\mathbf{\\theta}_{\\mathbf{D}}}(\\mathbf{x})$ é uma variável aleatória sobre o conjunto de todos os possíveis conjuntos de treinamento $\\mathbf{D}$**.\n",
    "\n",
    "Vamos definir a média e a variância desta variável aleatória (para um dado $\\mathbf{x}$, não se esqueça) como:\n",
    "\n",
    "$$\n",
    "\\mu_{h}(\\mathbf{x}) = E_{\\mathbf{D}}\\left[h_{\\mathbf{\\theta}_{\\mathbf{D}}}(\\mathbf{x})\\right]\n",
    "$$\n",
    "\n",
    "e\n",
    "\n",
    "$$\n",
    "\\sigma_{h}^2(\\mathbf{x}) = E_{\\mathbf{D}}\\left[ \\left(\n",
    "    h_{\\mathbf{\\theta}_{\\mathbf{D}}}(\\mathbf{x}) - \\mu_{h}(\\mathbf{x})\n",
    "\\right)^2 \\right]\n",
    "$$\n",
    "\n",
    "Respire, respire...\n",
    "\n",
    "Agora vamos aos dados: vamos imaginar que nossos dados *observados* são da seguinte forma:\n",
    "\n",
    "$$\n",
    "(\\text{valor observado}) = (\\text{valor real}) + (\\text{ruído e outros erros})\n",
    "$$\n",
    "\n",
    "Dando nomes aos bois, seja $y(\\mathbf{x})$ o valor observado da variável dependente para uma amostra de entrada $\\mathbf{x}$, $t(\\mathbf{x})$ o valor real (true) da variável dependente, e $\\varepsilon$ o ruído, que é uma variável aleatória independente de média zero e variância $\\sigma_{\\varepsilon}^2 = E\\left[ \\varepsilon^2 \\right]$. Então a pseudo-equação acima fica sendo:\n",
    "\n",
    "$$\n",
    "y(\\mathbf{x}) = t(\\mathbf{x}) + \\varepsilon\n",
    "$$\n",
    "\n",
    "Respire, respire...\n",
    "\n",
    "Agora vamos juntar tudo. O erro entre o valor observado e o valor predito é\n",
    "\n",
    "$$\n",
    "y(\\mathbf{x}) - h_{\\mathbf{\\theta}_{\\mathbf{D}}}(\\mathbf{x})\n",
    "$$\n",
    "\n",
    "O erro quadrático é \n",
    "\n",
    "$$\n",
    "\\left(y(\\mathbf{x}) - h_{\\mathbf{\\theta}_{\\mathbf{D}}}(\\mathbf{x})\\right)^2\n",
    "$$\n",
    "\n",
    "e - leia com calma - *o erro médio quadrático sobre todas as amostras de teste possíveis* ***e*** *para um dado conjunto de treinamento* é, portanto:\n",
    "\n",
    "$$\n",
    "\\text{MSE}_{\\mathbf{D}} = E_{\\mathbf{x}}\\left[\\left(y(\\mathbf{x}) - h_{\\mathbf{\\theta}_{\\mathbf{D}}}(\\mathbf{x})\\right)^2\\right]\n",
    "$$\n",
    "\n",
    "Ainda sobrou uma incerteza no processo: o conjunto de treinamento $\\mathbf{D}$. Nossa estimativa final de erro é o *valor esperado do erro quadrático médio $\\text{MSE}_{\\mathbf{D}}$ sobre todos os possíveis conjuntos de treinamento*, ou seja:\n",
    "\n",
    "$$\n",
    "\\text{MSE} = E_{\\mathbf{D}} \\left[ E_{\\mathbf{x}} \\left[ \n",
    "\\left(y(\\mathbf{x}) - h_{\\mathbf{\\theta}_{\\mathbf{D}}}(\\mathbf{x})\\right)^2\n",
    "\\right] \\right]\n",
    "$$\n",
    "\n",
    "Podemos demonstrar que essa expressão pode ser escrita como:\n",
    "\n",
    "$$\n",
    "\\text{MSE} = \n",
    "\\underbrace{E_{\\mathbf{x}} \\left[ \\left( t(\\mathbf{x}) - \\mu_{h}(\\mathbf{x}) \\right)^2 \\right]}_{\\text{bias}}\n",
    "+ \\underbrace{E_{\\mathbf{x}} \\left[ \\sigma_{h}^2(\\mathbf{x}) \\right] }_{\\text{variance}}\n",
    "+ \\underbrace{\\sigma_{\\varepsilon}^2}_{\\text{erro intrínseco}}\n",
    "$$\n",
    "\n",
    "Ufa! Este é um resultado famoso de machine learning, conhecido como \"Bias/Variance tradeoff\". Representa o seguinte: para um regressor qualquer o MSE esperado é composto de três partes:\n",
    "\n",
    "- *Bias* (ou viés): O termo $E_{\\mathbf{x}} \\left[ \\left( t(\\mathbf{x}) - \\mu_{h}(\\mathbf{x}) \\right)^2 \\right]$ é uma componente do erro que independe do conjunto de testes, e que mede a competência intrínseca do modelo. Modelos muito simples (*underfitting*) tem essa componente de viés alta, pois trata-se de um erro sistêmico.\n",
    "\n",
    "- *Variance*: O termo $E_{\\mathbf{x}} \\left[ \\sigma_{h}^2(\\mathbf{x}) \\right]$ representa a volatilidade do modelo em relação ao conjunto de testes usado. Modelos muito complexos (*overfitting*) tem essa componente do erro alta.\n",
    "\n",
    "- Erro intrínseco: Esta componente do erro está relacionada com a qualidade do dado adquirido: quanto mais ruidoso, pior o desempenho ótimo do nosso sistema.\n",
    "\n",
    "O qualificador *trade-off* vem do fato de que quando o *bias* aumenta, cai a *variance*, e vice versa. Existe um ponto de ótimo, contudo."
   ]
  },
  {
   "cell_type": "markdown",
   "metadata": {},
   "source": [
    "--- \n",
    "\n",
    "**Atividade:**\n",
    "\n",
    "Explique, em termos de *bias*, *variance* e erro intrínseco, o comportamento do exemplo do polinômio de grau 3 acima, ou seja, explique a seguinte figura:\n",
    "\n",
    "![comparação](comparacao_fits.png \"comparação entre fits\")\n"
   ]
  },
  {
   "cell_type": "markdown",
   "metadata": {},
   "source": [
    "**R:**\n",
    "\n",
    "```\n",
    "\n",
    "\n",
    "\n",
    "\n",
    "\n",
    "\n",
    "\n",
    "\n",
    "\n",
    "\n",
    "```\n",
    "\n",
    "---"
   ]
  },
  {
   "cell_type": "markdown",
   "metadata": {},
   "source": [
    "## Curvas de aprendizado"
   ]
  },
  {
   "cell_type": "markdown",
   "metadata": {},
   "source": [
    "O que quer dizer que um modelo é muito complexo? É um modelo que tem parâmetros de ajuste em excesso *em relação ao volume de dados de teste*. Um modelo tido como complexo para um conjunto pequeno de dados pode ser um modelo muito simples ao se considerar um conjunto maior de dados. Vamos explorar esse conceito em um experimento:"
   ]
  },
  {
   "cell_type": "code",
   "execution_count": 34,
   "metadata": {},
   "outputs": [],
   "source": [
    "from sklearn.metrics import mean_squared_error\n",
    "from sklearn.model_selection import train_test_split\n",
    "\n",
    "\n",
    "def plot_learning_curves(model, X, y, ax1, ax2, step=5):\n",
    "    # Separa 20% para validação.\n",
    "    X_train, X_val, y_train, y_val = train_test_split(\n",
    "        X,\n",
    "        y,\n",
    "        test_size=0.2,\n",
    "        random_state=RAND_SEED,\n",
    "    )\n",
    "\n",
    "    train_errors, val_errors = [], []\n",
    "\n",
    "    # Para cada tamanho do conjunto de treinamento...\n",
    "    for m in range(1, len(X_train)):\n",
    "        mean_RMSE_train = 0.0\n",
    "        mean_RMSE_val = 0.0\n",
    "\n",
    "        count = 0\n",
    "        for i in range(0, len(X_train) - m, step):\n",
    "            # Ajusta modelo com apenas m amostras de treinamento.\n",
    "            model.fit(X_train[i:(i + m)], y_train[i:(i + m)])\n",
    "\n",
    "            # Faz a previsão sobre o conjunto de treinamento\n",
    "            # (para obter o erro de treinamento)\n",
    "            # e sobre o conjunto de validação.\n",
    "            y_train_predict = model.predict(X_train[i:(i + m)])\n",
    "            y_val_predict = model.predict(X_val)\n",
    "\n",
    "            # Calcula o valor do RMSE\n",
    "            RMSE_train = np.sqrt(\n",
    "                mean_squared_error(\n",
    "                    y_train_predict,\n",
    "                    y_train[i:(i + m)],\n",
    "                ))\n",
    "            RMSE_val = np.sqrt(mean_squared_error(y_val_predict, y_val))\n",
    "\n",
    "            mean_RMSE_train += RMSE_train\n",
    "            mean_RMSE_val += RMSE_val\n",
    "            count += 1\n",
    "\n",
    "        mean_RMSE_train /= count\n",
    "        mean_RMSE_val /= count\n",
    "\n",
    "        # Armazena ambos os valores de RMSE.\n",
    "        train_errors.append(mean_RMSE_train)\n",
    "        val_errors.append(mean_RMSE_val)\n",
    "\n",
    "    plt.figure(figsize=(8, 6))\n",
    "    plt.plot(np.sqrt(train_errors), \"r-\", linewidth=2, label=\"train\")\n",
    "    plt.plot(np.sqrt(val_errors), \"b-\", linewidth=3, label=\"val\")\n",
    "    plt.axis(ax1)\n",
    "    plt.legend(loc=\"upper right\", fontsize=14)\n",
    "    plt.xlabel(\"Training set size\", fontsize=14)\n",
    "    plt.ylabel(\"RMSE\", fontsize=14)\n",
    "\n",
    "    plt.figure(figsize=(8, 6))\n",
    "    plt.plot(np.sqrt(train_errors), \"r-\", linewidth=2, label=\"train\")\n",
    "    plt.plot(np.sqrt(val_errors), \"b-\", linewidth=3, label=\"val\")\n",
    "    plt.axis(ax2)\n",
    "    plt.legend(loc=\"upper right\", fontsize=14)\n",
    "    plt.xlabel(\"Training set size\", fontsize=14)\n",
    "    plt.ylabel(\"RMSE\", fontsize=14)\n",
    "    plt.show()"
   ]
  },
  {
   "cell_type": "code",
   "execution_count": 35,
   "metadata": {},
   "outputs": [
    {
     "data": {
      "image/png": "[encoded data removed]",
      "text/plain": [
       "<Figure size 576x432 with 1 Axes>"
      ]
     },
     "metadata": {
      "needs_background": "light"
     },
     "output_type": "display_data"
    },
    {
     "data": {
      "image/png": "[encoded data removed]",
      "text/plain": [
       "<Figure size 576x432 with 1 Axes>"
      ]
     },
     "metadata": {
      "needs_background": "light"
     },
     "output_type": "display_data"
    }
   ],
   "source": [
    "plot_learning_curves(poly_reg_1, X, y, [0, 80, 0, 3], [0, 20, 0, 2], 1)"
   ]
  },
  {
   "cell_type": "code",
   "execution_count": 36,
   "metadata": {},
   "outputs": [
    {
     "data": {
      "image/png": "[encoded data removed]",
      "text/plain": [
       "<Figure size 576x432 with 1 Axes>"
      ]
     },
     "metadata": {
      "needs_background": "light"
     },
     "output_type": "display_data"
    },
    {
     "data": {
      "image/png": "[encoded data removed]",
      "text/plain": [
       "<Figure size 576x432 with 1 Axes>"
      ]
     },
     "metadata": {
      "needs_background": "light"
     },
     "output_type": "display_data"
    }
   ],
   "source": [
    "plot_learning_curves(poly_reg_2, X, y, [0, 80, 0, 1e1], [0, 20, 0, 2], 1)"
   ]
  },
  {
   "cell_type": "code",
   "execution_count": 37,
   "metadata": {},
   "outputs": [
    {
     "data": {
      "image/png": "[encoded data removed]",
      "text/plain": [
       "<Figure size 576x432 with 1 Axes>"
      ]
     },
     "metadata": {
      "needs_background": "light"
     },
     "output_type": "display_data"
    },
    {
     "data": {
      "image/png": "[encoded data removed]",
      "text/plain": [
       "<Figure size 576x432 with 1 Axes>"
      ]
     },
     "metadata": {
      "needs_background": "light"
     },
     "output_type": "display_data"
    }
   ],
   "source": [
    "plot_learning_curves(poly_reg_30, X, y, [0, 80, 0, 4e20], [0, 80, 0, 2], 1)"
   ]
  },
  {
   "cell_type": "code",
   "execution_count": 38,
   "metadata": {},
   "outputs": [
    {
     "data": {
      "image/png": "[encoded data removed]",
      "text/plain": [
       "<Figure size 576x432 with 1 Axes>"
      ]
     },
     "metadata": {
      "needs_background": "light"
     },
     "output_type": "display_data"
    },
    {
     "data": {
      "image/png": "[encoded data removed]",
      "text/plain": [
       "<Figure size 576x432 with 1 Axes>"
      ]
     },
     "metadata": {
      "needs_background": "light"
     },
     "output_type": "display_data"
    }
   ],
   "source": [
    "poly_reg_10 = Pipeline([\n",
    "    (\"poly_features\", PolynomialFeatures(degree=10, include_bias=False)),\n",
    "    (\"std_scaler\", StandardScaler()),\n",
    "    (\"lin_reg\", LinearRegression()),\n",
    "])\n",
    "\n",
    "plot_learning_curves(poly_reg_10, X, y, [0, 80, 0, 500], [0, 80, 0, 2])"
   ]
  },
  {
   "cell_type": "markdown",
   "metadata": {},
   "source": [
    "Podemos observar quando um ajuste passa de *overfit* para ajuste normal conforme o número de dados de treinamento aumenta!"
   ]
  },
  {
   "cell_type": "markdown",
   "metadata": {},
   "source": [
    "---\n",
    "\n",
    "**Atividade:**\n",
    "\n",
    "Explique:\n",
    "\n",
    "- Porque o erro do modelo ``poly_reg_1`` é maior que o erro do modelo ``poly_reg_2``?\n",
    "\n",
    "- Porque o erro do modelo ``poly_reg_30`` é maior que o erro do modelo ``poly_reg_2``?\n",
    "\n",
    "- Porque na curva RMSE versus tamanho do conjunto de treinamento observamos, para o modelo de grau 10, que o erro de treinamento é zero até que o conjunto de treinamento tenha mais de 10 amostras?\n",
    "\n",
    "- Para as curvas relacionadas a modelos complexos, eventualmente o erro tende a aproximadamente $\\text{RMSE} = 1$ neste problema-exemplo. Explique em termos de *bias*, variância, e erro intrínseco. (Compare com os dados originais.)"
   ]
  },
  {
   "cell_type": "markdown",
   "metadata": {},
   "source": [
    "**R:**\n",
    "\n",
    "```\n",
    "\n",
    "\n",
    "\n",
    "\n",
    "\n",
    "\n",
    "\n",
    "\n",
    "\n",
    "```\n",
    "\n",
    "\n",
    "---"
   ]
  }
 ],
 "metadata": {
  "interpreter": {
   "hash": "86e8e840daaf108922afe63311132d9e4e822289851c1c8b19b1199c5ec37992"
  },
  "kernelspec": {
   "display_name": "ml",
   "language": "python",
   "name": "ml"
  },
  "language_info": {
   "codemirror_mode": {
    "name": "ipython",
    "version": 3
   },
   "file_extension": ".py",
   "mimetype": "text/x-python",
   "name": "python",
   "nbconvert_exporter": "python",
   "pygments_lexer": "ipython3",
   "version": "3.8.11"
  },
  "toc": {
   "nav_menu": {},
   "number_sections": true,
   "sideBar": true,
   "skip_h1_title": false,
   "toc_cell": false,
   "toc_position": {},
   "toc_section_display": "block",
   "toc_window_display": false
  }
 },
 "nbformat": 4,
 "nbformat_minor": 4
}
