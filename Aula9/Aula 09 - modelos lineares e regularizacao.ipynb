{
 "cells": [
  {
   "cell_type": "markdown",
   "metadata": {
    "tags": []
   },
   "source": [
    "# Modelos lineares e regularização"
   ]
  },
  {
   "cell_type": "markdown",
   "metadata": {},
   "source": [
    "Vamos começar importando as bibliotecas de costume"
   ]
  },
  {
   "cell_type": "code",
   "execution_count": 1,
   "metadata": {},
   "outputs": [],
   "source": [
    "%matplotlib inline\n",
    "from pprint import pprint\n",
    "\n",
    "import matplotlib.pyplot as plt\n",
    "import numpy as np\n",
    "\n",
    "from sklearn.linear_model import LinearRegression\n",
    "from sklearn.pipeline import Pipeline\n",
    "from sklearn.preprocessing import PolynomialFeatures, StandardScaler"
   ]
  },
  {
   "cell_type": "markdown",
   "metadata": {},
   "source": [
    "Vamos tambem inicializar o gerador de números aleatórios do Numpy para garantir a reproducibilidade dos nossos resultados."
   ]
  },
  {
   "cell_type": "code",
   "execution_count": 2,
   "metadata": {},
   "outputs": [],
   "source": [
    "RAND_SEED = 42\n",
    "np.random.seed(RAND_SEED)"
   ]
  },
  {
   "cell_type": "markdown",
   "metadata": {},
   "source": [
    "Agora vamos gerar um conjunto de valores experimentais $(x,y)$ aleatórios da seguinte forma:\n",
    "\n",
    "- Os valores de $x$ são sorteados uniformemente entre $-3$ e $3$\n",
    "- Os valores de $y$ são obtidos em dois passos:\n",
    "    - Calculamos $y_{\\text{clean}}$ como função de $x$: $y_{\\text{clean}} = \\frac{1}{2} x^2 + x + 2$\n",
    "    - Calculamos o valor final de $y$ como sendo $y = y_{\\text{clean}} + \\varepsilon$ onde $\\varepsilon \\sim N(0, 1)$ é uma variável aleatória normal de média zero e desvio padrão $1$.\n",
    "\n",
    "Vamos usar esses valores experimentais para continuar nossa exploração sobre modelos lineares."
   ]
  },
  {
   "cell_type": "code",
   "execution_count": 3,
   "metadata": {},
   "outputs": [
    {
     "data": {
      "image/png": "[encoded data removed]",
      "text/plain": [
       "<Figure size 576x432 with 1 Axes>"
      ]
     },
     "metadata": {
      "needs_background": "light"
     },
     "output_type": "display_data"
    }
   ],
   "source": [
    "# Numero de pontos a serem gerados.\n",
    "m = 50\n",
    "\n",
    "# Valores de x, na forma de uma matriz-coluna m por 1.\n",
    "X = 6 * np.random.rand(m, 1) - 3\n",
    "\n",
    "# Valores de y sem ruido, que são uma função quadrática de x.\n",
    "y_clean = 0.5 * X**2 + X + 2\n",
    "\n",
    "# Adicionando ruido à y.\n",
    "y = y_clean + np.random.randn(m, 1)\n",
    "\n",
    "# Vamos ver como ficou.\n",
    "plt.figure(figsize=(8, 6))\n",
    "plt.plot(X, y, \"b.\", linewidth=3)\n",
    "plt.show()"
   ]
  },
  {
   "cell_type": "markdown",
   "metadata": {},
   "source": [
    "Nosso objetivo será ajustar vários modelos lineares polinomiais aos dados, com diferentes graus de polinômio, e compará-los:\n",
    "\n",
    "- Modelo linear de grau $1$: $\\hat{y} = \\theta_0 + \\theta_1 x$\n",
    "- Modelo linear de grau $2$: $\\hat{y} = \\theta_0 + \\theta_1 x + \\theta_2 x^2$\n",
    "- Modelo linear de grau $30$: $\\hat{y} = \\theta_0 + \\theta_1 x + \\cdots + \\theta_{30} x^{30}$"
   ]
  },
  {
   "cell_type": "code",
   "execution_count": 4,
   "metadata": {
    "tags": []
   },
   "outputs": [],
   "source": [
    "def experimento(X, y, degree):\n",
    "    # Cria a pipeline.\n",
    "    pipe = Pipeline([\n",
    "        (\"poly_features\", PolynomialFeatures(\n",
    "            degree=degree,\n",
    "            include_bias=False,\n",
    "        )),\n",
    "        (\"std_scaler\", StandardScaler()),\n",
    "        (\"lin_reg\", LinearRegression()),\n",
    "    ])\n",
    "\n",
    "    # Ajusta a pipeline nos dados de treinamento.\n",
    "    pipe.fit(X, y)\n",
    "\n",
    "    # Imprime os parametros obtidos no ajuste de modelo.\n",
    "    def print_title(title):\n",
    "        msg = f'Parâmetros do {title}'\n",
    "        print(msg)\n",
    "        print('-' * len(msg))\n",
    "\n",
    "    def print_array(name, arr):\n",
    "        print(name)\n",
    "        pprint(arr)\n",
    "        print()\n",
    "\n",
    "    scaler = pipe.named_steps['std_scaler']\n",
    "    print_title('StandardScaler')\n",
    "    print_array('mean:', scaler.mean_)\n",
    "    print_array('scale:', scaler.scale_)\n",
    "\n",
    "    model = pipe.named_steps['lin_reg']\n",
    "    print_title('modelo linear')\n",
    "    print_array('theta_0:', model.intercept_)\n",
    "    print_array('Demais coeficientes theta_i:', model.coef_)\n",
    "\n",
    "    # Coordenadas de teste para visualizar as predições efetuadas\n",
    "    # pelo modelo ajustado.\n",
    "    X_test = np.linspace(-3, 3, num=100).T\n",
    "\n",
    "    # Calcula as predições da pipeline nos dados de teste.\n",
    "    y_test = pipe.predict(X_test.reshape(-1, 1))\n",
    "\n",
    "    # Vamos ver como ficou.\n",
    "    plt.figure(figsize=(8, 6))\n",
    "    plt.plot(X, y, \"b.\", linewidth=3)\n",
    "    plt.plot(X_test, y_test, 'r-', label=f'grau {degree}')\n",
    "    plt.xlabel('$X$')\n",
    "    plt.ylabel('$y$', rotation=0)\n",
    "    plt.axis([-3, 3, 0, 10])\n",
    "    plt.title(f'Modelo de grau ${degree}$')\n",
    "    plt.show()"
   ]
  },
  {
   "cell_type": "markdown",
   "metadata": {},
   "source": [
    "No primeiro experimento, vamos usar um modelo linear de grau $1$:"
   ]
  },
  {
   "cell_type": "code",
   "execution_count": 6,
   "metadata": {
    "tags": []
   },
   "outputs": [
    {
     "name": "stdout",
     "output_type": "stream",
     "text": [
      "Parâmetros do StandardScaler\n",
      "----------------------------\n",
      "mean:\n",
      "array([-0.32445657])\n",
      "\n",
      "scale:\n",
      "array([1.71587867])\n",
      "\n",
      "Parâmetros do modelo linear\n",
      "---------------------------\n",
      "theta_0:\n",
      "array([3.19735398])\n",
      "\n",
      "Demais coeficientes theta_i:\n",
      "array([[1.52518782]])\n",
      "\n"
     ]
    },
    {
     "data": {
      "image/png": "[encoded data removed]",
      "text/plain": [
       "<Figure size 576x432 with 1 Axes>"
      ]
     },
     "metadata": {
      "needs_background": "light"
     },
     "output_type": "display_data"
    }
   ],
   "source": [
    "# Experimento 1: grau baixo.\n",
    "experimento(X, y, degree=1)"
   ]
  },
  {
   "cell_type": "markdown",
   "metadata": {},
   "source": [
    "No segundo experimento vamos usar um modelo polinomial de grau $2$. Este é o modelo que esperamos que atinja nosso *benchmark* de parâmetros."
   ]
  },
  {
   "cell_type": "code",
   "execution_count": 6,
   "metadata": {},
   "outputs": [
    {
     "name": "stdout",
     "output_type": "stream",
     "text": [
      "Parâmetros do StandardScaler\n",
      "----------------------------\n",
      "mean:\n",
      "array([-0.32445657,  3.04951168])\n",
      "\n",
      "scale:\n",
      "array([1.71587867, 2.67665834])\n",
      "\n",
      "Parâmetros do modelo linear\n",
      "---------------------------\n",
      "theta_0:\n",
      "array([3.19735398])\n",
      "\n",
      "Demais coeficientes theta_i:\n",
      "array([[1.65101609, 1.32814361]])\n",
      "\n"
     ]
    },
    {
     "data": {
      "image/png": "[encoded data removed]",
      "text/plain": [
       "<Figure size 576x432 with 1 Axes>"
      ]
     },
     "metadata": {
      "needs_background": "light"
     },
     "output_type": "display_data"
    }
   ],
   "source": [
    "# Experimento 2: grau adequado.\n",
    "experimento(X, y, degree=2)"
   ]
  },
  {
   "cell_type": "markdown",
   "metadata": {},
   "source": [
    "No terceiro modelo vamos exagerar no grau do modelo polinomial, para ver o que acontece."
   ]
  },
  {
   "cell_type": "code",
   "execution_count": 7,
   "metadata": {},
   "outputs": [
    {
     "name": "stdout",
     "output_type": "stream",
     "text": [
      "Parâmetros do StandardScaler\n",
      "----------------------------\n",
      "mean:\n",
      "array([-3.24456574e-01,  3.04951168e+00, -1.42455777e+00,  1.64640213e+01,\n",
      "       -6.72605427e+00,  1.04262610e+02, -3.56599259e+01,  7.12968758e+02,\n",
      "       -2.10706975e+02,  5.09327028e+03, -1.37128474e+03,  3.73773683e+04,\n",
      "       -9.66835537e+03,  2.79148225e+05, -7.24841783e+04,  2.11010738e+06,\n",
      "       -5.68019602e+05,  1.60914222e+07, -4.58980394e+06,  1.23544025e+08,\n",
      "       -3.78617104e+07,  9.53714088e+08, -3.16620869e+08,  7.39609213e+09,\n",
      "       -2.67126432e+09,  5.75846163e+10, -2.26619619e+10,  4.49919136e+11,\n",
      "       -1.92885498e+11,  3.52643759e+12])\n",
      "\n",
      "scale:\n",
      "array([1.71587867e+00, 2.67665834e+00, 1.01110457e+01, 2.10215308e+01,\n",
      "       7.10494931e+01, 1.62808711e+02, 5.27140014e+02, 1.26561563e+03,\n",
      "       4.00587378e+03, 9.87940398e+03, 3.08518017e+04, 7.74533696e+04,\n",
      "       2.39773099e+05, 6.09914260e+05, 1.87648172e+06, 4.82362887e+06,\n",
      "       1.47700385e+07, 3.83049211e+07, 1.16830110e+08, 3.05337359e+08,\n",
      "       9.28102541e+08, 2.44235799e+09, 7.40099766e+09, 1.95976425e+10,\n",
      "       5.92185784e+10, 1.57700254e+11, 4.75275084e+11, 1.27225573e+12,\n",
      "       3.82487757e+12, 1.02877558e+13])\n",
      "\n",
      "Parâmetros do modelo linear\n",
      "---------------------------\n",
      "theta_0:\n",
      "array([3.19735376])\n",
      "\n",
      "Demais coeficientes theta_i:\n",
      "array([[-5.02233075e+00, -5.36225786e+01,  6.81645539e+02,\n",
      "         2.92440881e+03, -2.55109007e+04, -7.15760370e+04,\n",
      "         4.85079049e+05,  9.94575999e+05, -5.39610680e+06,\n",
      "        -8.77012863e+06,  3.81913960e+07,  5.23747958e+07,\n",
      "        -1.81613940e+08, -2.20385144e+08,  6.00856979e+08,\n",
      "         6.68719135e+08, -1.41059394e+09, -1.47891849e+09,\n",
      "         2.36540325e+09,  2.38293184e+09, -2.81389218e+09,\n",
      "        -2.76340257e+09,  2.31895726e+09,  2.24316190e+09,\n",
      "        -1.25859099e+09, -1.20799845e+09,  4.04540212e+08,\n",
      "         3.87231259e+08, -5.83222202e+07, -5.58700449e+07]])\n",
      "\n"
     ]
    },
    {
     "data": {
      "image/png": "[encoded data removed]",
      "text/plain": [
       "<Figure size 576x432 with 1 Axes>"
      ]
     },
     "metadata": {
      "needs_background": "light"
     },
     "output_type": "display_data"
    }
   ],
   "source": [
    "# Experimento 3: grau exagerado.\n",
    "experimento(X, y, degree=30)"
   ]
  },
  {
   "cell_type": "markdown",
   "metadata": {},
   "source": [
    "# Regularização"
   ]
  },
  {
   "cell_type": "markdown",
   "metadata": {},
   "source": [
    "Conforme vimos acima, um modelo muito complexo pode sofrer do problema de *overfitting*. Uma forma de domar a complexidade do modelo é limitar o número de *features*. Por exemplo, usando *features* polinomiais, podemos limitar o grau do polinômio.\n",
    "\n",
    "Outra forma de tratar a complexidade dos modelos é através da estratégia de *regularização*. Trata-se do seguinte:\n",
    "\n",
    "1. Definimos métricas diferentes de erro para a fase de treinamento e a fase de testes.\n",
    "    - Na fase de treinamento usamos uma *métrica regularizada*\n",
    "    - Na fase de testes usamos uma métrica convencional\n",
    "    \n",
    "2. A métrica regularizada funciona assim: trata-se da métrica convencional acrescida de um termo que *penaliza a complexidade do modelo*.\n",
    "\n",
    "Com isso favorecemos modelos de complexidade reduzida, mesmo que o grau do polinômio seja alto."
   ]
  },
  {
   "cell_type": "markdown",
   "metadata": {},
   "source": [
    "## Ridge, Lasso e ElasticNet"
   ]
  },
  {
   "cell_type": "markdown",
   "metadata": {},
   "source": [
    "Nestas modalidades de regularização adicionamos uma penalidade para a norma do vetor de parâmetros:\n",
    "\n",
    "- Ridge: a penalidade é proporcional à norma $L_2$ do vetor de parâmetros.\n",
    "\n",
    "- Lasso: a penalidade é proporcional à norma $L_1$ do vetor de parâmetros.\n",
    "\n",
    "- ElasticNet: uma soma ponderada de penalidades proporcionais às normas $L_1$ e $L_2$ do vetor de parâmetros é aplicada.\n"
   ]
  },
  {
   "cell_type": "markdown",
   "metadata": {},
   "source": [
    "**Atividade:** O material do livro-texto, na seção \"Regularized Linear Models\" está muito bom, estude este material e responda:\n",
    "\n",
    "- Qual a diferença entre *ridge regression*, *lasso regression*, e *elastic net*?"
   ]
  },
  {
   "cell_type": "markdown",
   "metadata": {},
   "source": [
    "**R:**"
   ]
  },
  {
   "cell_type": "markdown",
   "metadata": {},
   "source": [
    "Eis aqui uma demonstração das várias regularizações:"
   ]
  },
  {
   "cell_type": "code",
   "execution_count": 7,
   "metadata": {},
   "outputs": [],
   "source": [
    "from sklearn.linear_model import ElasticNet, Lasso, Ridge\n",
    "from sklearn.metrics import mean_squared_error\n",
    "from sklearn.model_selection import train_test_split\n",
    "\n",
    "\n",
    "def outro_experimento(msg, pipeline, X_train, y_train, X_test, y_test):\n",
    "    pipeline.fit(X_train, y_train)\n",
    "    y_pred = pipeline.predict(X_test)\n",
    "    RMSE = np.sqrt(mean_squared_error(y_pred, y_test))\n",
    "\n",
    "    model = pipeline.named_steps['lin_reg']\n",
    "    print(f'{msg}:')\n",
    "    print(f'intercept = {model.intercept_}')\n",
    "    print(f'coefs = {model.coef_}')\n",
    "    print(f'RMSE: {RMSE}')\n",
    "    print()"
   ]
  },
  {
   "cell_type": "code",
   "execution_count": 8,
   "metadata": {},
   "outputs": [],
   "source": [
    "X_train, X_test, y_train, y_test = train_test_split(\n",
    "    X,\n",
    "    y,\n",
    "    test_size=0.2,\n",
    "    random_state=RAND_SEED,\n",
    ")"
   ]
  },
  {
   "cell_type": "code",
   "execution_count": 9,
   "metadata": {},
   "outputs": [],
   "source": [
    "def get_linear_regressor_pipeline(degree):\n",
    "    pipe = Pipeline([\n",
    "        (\"poly_features\", PolynomialFeatures(\n",
    "            degree=degree,\n",
    "            include_bias=False,\n",
    "        )),\n",
    "        (\"std_scaler\", StandardScaler()),\n",
    "        (\"lin_reg\", LinearRegression()),\n",
    "    ])\n",
    "    return pipe\n",
    "\n",
    "\n",
    "poly_reg_1 = get_linear_regressor_pipeline(degree=1)\n",
    "poly_reg_2 = get_linear_regressor_pipeline(degree=2)\n",
    "poly_reg_30 = get_linear_regressor_pipeline(degree=30)"
   ]
  },
  {
   "cell_type": "code",
   "execution_count": 10,
   "metadata": {},
   "outputs": [
    {
     "name": "stdout",
     "output_type": "stream",
     "text": [
      "Fit de grau 1, sem regularização:\n",
      "intercept = [3.360575]\n",
      "coefs = [[1.67617475]]\n",
      "RMSE: 1.702493336371738\n",
      "\n",
      "Fit de grau 2, sem regularização:\n",
      "intercept = [3.360575]\n",
      "coefs = [[1.71510893 1.30326142]]\n",
      "RMSE: 0.9107993823957374\n",
      "\n",
      "Fit de grau 30, sem regularização:\n",
      "intercept = [3.36057715]\n",
      "coefs = [[ 5.21073570e+00 -5.14868753e+01 -1.09283288e+03  3.57957461e+03\n",
      "   6.36795588e+04 -9.70031151e+04 -1.63013428e+06  1.16320017e+06\n",
      "   2.26822235e+07 -5.48968667e+06 -1.92326330e+08 -1.24186759e+07\n",
      "   1.06290647e+09  2.93819931e+08 -3.98823830e+09 -1.70962284e+09\n",
      "   1.04020208e+10  5.63196461e+09 -1.90414698e+10 -1.19421118e+10\n",
      "   2.43625408e+10  1.69044364e+10 -2.13253423e+10 -1.59268131e+10\n",
      "   1.21657255e+10  9.60721901e+09 -4.07466557e+09 -3.36120063e+09\n",
      "   6.07734344e+08  5.19147291e+08]]\n",
      "RMSE: 10.44938919598202\n",
      "\n"
     ]
    }
   ],
   "source": [
    "# Testa o fit do poly_reg_1.\n",
    "outro_experimento(\n",
    "    'Fit de grau 1, sem regularização',\n",
    "    poly_reg_1,\n",
    "    X_train,\n",
    "    y_train,\n",
    "    X_test,\n",
    "    y_test,\n",
    ")\n",
    "\n",
    "# Testa o fit do poly_reg_2.\n",
    "outro_experimento(\n",
    "    'Fit de grau 2, sem regularização',\n",
    "    poly_reg_2,\n",
    "    X_train,\n",
    "    y_train,\n",
    "    X_test,\n",
    "    y_test,\n",
    ")\n",
    "\n",
    "# Testa o fit do poly_reg_30.\n",
    "outro_experimento(\n",
    "    'Fit de grau 30, sem regularização',\n",
    "    poly_reg_30,\n",
    "    X_train,\n",
    "    y_train,\n",
    "    X_test,\n",
    "    y_test,\n",
    ")"
   ]
  },
  {
   "cell_type": "code",
   "execution_count": 11,
   "metadata": {},
   "outputs": [],
   "source": [
    "# Coeficiente de regularização para os experimentos a seguir.\n",
    "alpha = 1e-1"
   ]
  },
  {
   "cell_type": "code",
   "execution_count": 12,
   "metadata": {},
   "outputs": [
    {
     "name": "stdout",
     "output_type": "stream",
     "text": [
      "Fit de grau 30, regularização ridge:\n",
      "intercept = [3.360575]\n",
      "coefs = [[ 1.59489135  0.47725162 -0.14309992  1.84019522  0.29249355 -0.09997135\n",
      "   0.55562415 -0.82304453  0.47348413 -0.69401326  0.23625941 -0.28265974\n",
      "  -0.02258788  0.11461831 -0.23984397  0.38638718 -0.38934537  0.50981467\n",
      "  -0.46040085  0.49764216 -0.44828742  0.37362782 -0.35104929  0.16231733\n",
      "  -0.16877412 -0.11466856  0.09646245 -0.43957431  0.44065482 -0.79835976]]\n",
      "RMSE: 0.9832711742670739\n",
      "\n"
     ]
    }
   ],
   "source": [
    "# Testa o fit da regularização ridge.\n",
    "poly_reg_ridge = Pipeline([\n",
    "    (\"poly_features\", PolynomialFeatures(degree=30, include_bias=False)),\n",
    "    (\"std_scaler\", StandardScaler()),\n",
    "    (\"lin_reg\", Ridge(alpha=alpha)),\n",
    "])\n",
    "outro_experimento(\n",
    "    'Fit de grau 30, regularização ridge',\n",
    "    poly_reg_ridge,\n",
    "    X_train,\n",
    "    y_train,\n",
    "    X_test,\n",
    "    y_test,\n",
    ")"
   ]
  },
  {
   "cell_type": "code",
   "execution_count": 13,
   "metadata": {},
   "outputs": [
    {
     "name": "stdout",
     "output_type": "stream",
     "text": [
      "Fit de grau 30, regularização lasso:\n",
      "intercept = [3.360575]\n",
      "coefs = [ 1.62337143  1.04555095  0.          0.15754791  0.          0.\n",
      "  0.          0.         -0.          0.         -0.          0.\n",
      " -0.          0.         -0.          0.         -0.          0.\n",
      " -0.          0.         -0.          0.         -0.          0.\n",
      " -0.          0.         -0.          0.         -0.03492852  0.        ]\n",
      "RMSE: 0.9771858165029845\n",
      "\n"
     ]
    }
   ],
   "source": [
    "# Test o fit da regularização lasso.\n",
    "poly_reg_lasso = Pipeline([\n",
    "    (\"poly_features\", PolynomialFeatures(degree=30, include_bias=False)),\n",
    "    (\"std_scaler\", StandardScaler()),\n",
    "    (\"lin_reg\", Lasso(alpha=alpha)),\n",
    "])\n",
    "outro_experimento(\n",
    "    'Fit de grau 30, regularização lasso',\n",
    "    poly_reg_lasso,\n",
    "    X_train,\n",
    "    y_train,\n",
    "    X_test,\n",
    "    y_test,\n",
    ")"
   ]
  },
  {
   "cell_type": "code",
   "execution_count": 14,
   "metadata": {},
   "outputs": [
    {
     "name": "stdout",
     "output_type": "stream",
     "text": [
      "Fit de grau 30, regularização elastic net:\n",
      "intercept = [3.360575]\n",
      "coefs = [ 1.29913462e+00  7.96283926e-01  4.15268618e-01  4.15539891e-01\n",
      "  0.00000000e+00  0.00000000e+00  0.00000000e+00  0.00000000e+00\n",
      "  0.00000000e+00  0.00000000e+00 -0.00000000e+00  0.00000000e+00\n",
      " -0.00000000e+00 -0.00000000e+00 -0.00000000e+00 -0.00000000e+00\n",
      " -0.00000000e+00 -0.00000000e+00 -0.00000000e+00 -0.00000000e+00\n",
      " -0.00000000e+00 -0.00000000e+00 -2.53951279e-04 -0.00000000e+00\n",
      " -4.30119505e-02 -0.00000000e+00 -7.10400198e-02 -0.00000000e+00\n",
      " -7.98690417e-02 -0.00000000e+00]\n",
      "RMSE: 1.0306411303011618\n",
      "\n"
     ]
    }
   ],
   "source": [
    "# Test o fit da regularização elastic net.\n",
    "poly_reg_elasticnet = Pipeline([\n",
    "    (\"poly_features\", PolynomialFeatures(degree=30, include_bias=False)),\n",
    "    (\"std_scaler\", StandardScaler()),\n",
    "    (\"lin_reg\", ElasticNet(alpha=alpha, l1_ratio=0.5, random_state=RAND_SEED)),\n",
    "])\n",
    "outro_experimento(\n",
    "    'Fit de grau 30, regularização elastic net',\n",
    "    poly_reg_elasticnet,\n",
    "    X_train,\n",
    "    y_train,\n",
    "    X_test,\n",
    "    y_test,\n",
    ")"
   ]
  },
  {
   "cell_type": "markdown",
   "metadata": {},
   "source": [
    "**Atividade:** \n",
    "\n",
    "- Coloque o $\\alpha$ bem alto, o que acontece?\n",
    "\n",
    "- Coloque o $\\alpha$ muito baixo, o que acontece?\n",
    "\n",
    "- Explique a diferença observada entre sem regularização / regularização ridge / regularização lasso / regularização elastic net."
   ]
  },
  {
   "cell_type": "markdown",
   "metadata": {},
   "source": [
    "**R:**"
   ]
  },
  {
   "cell_type": "markdown",
   "metadata": {},
   "source": [
    "## Regularização por parada prematura (*early stopping*)"
   ]
  },
  {
   "cell_type": "markdown",
   "metadata": {},
   "source": [
    "Um modo bizarro de regularização é o chamado *early stopping*.\n",
    "\n",
    "Considere o algoritmo de treinamento *gradient descent*. Quanto mais iteramos neste algoritmo (em machine learning, as iterações são chamadas **epochs**), menor o *erro de treinamento*. Porém, se acompanharmos o *erro de validação* à cada epoch, vemos que este decresce com as epochs até um certo ponto, *e depois começa a subir novamente*!\n",
    "\n",
    "<img src=\"early_stopping_plot.png\" alt=\"Regularização por parada prematura\" style=\"width: 600px;\"/>\n",
    "\n",
    "\n",
    "**Atividade:** Por que isso acontece?"
   ]
  },
  {
   "cell_type": "markdown",
   "metadata": {},
   "source": [
    "**R:**"
   ]
  },
  {
   "cell_type": "markdown",
   "metadata": {},
   "source": [
    "Continuando:\n",
    "\n",
    "Portanto, se detectarmos que o erro de validação está realmente subindo, podemos parar com o processo de treinamento e adotar o modelo resultante como o nosso modelo treinado! Esta estratégia de *parada prematura* (early stopping) é surpreendentemente simples e eficaz!"
   ]
  },
  {
   "cell_type": "markdown",
   "metadata": {},
   "source": [
    "# Interpretabilidade"
   ]
  },
  {
   "cell_type": "code",
   "execution_count": 16,
   "metadata": {},
   "outputs": [],
   "source": [
    "import statsmodels.api as sm"
   ]
  },
  {
   "cell_type": "code",
   "execution_count": 17,
   "metadata": {},
   "outputs": [],
   "source": [
    "pipe = PolynomialFeatures(degree=5, include_bias=True)\n",
    "Xb = pipe.fit_transform(X)\n",
    "\n",
    "model = sm.OLS(y, Xb)\n",
    "results = model.fit()"
   ]
  },
  {
   "cell_type": "code",
   "execution_count": 18,
   "metadata": {},
   "outputs": [
    {
     "data": {
      "text/html": [
       "<table class=\"simpletable\">\n",
       "<caption>OLS Regression Results</caption>\n",
       "<tr>\n",
       "  <th>Dep. Variable:</th>            <td>y</td>        <th>  R-squared:         </th> <td>   0.840</td>\n",
       "</tr>\n",
       "<tr>\n",
       "  <th>Model:</th>                   <td>OLS</td>       <th>  Adj. R-squared:    </th> <td>   0.822</td>\n",
       "</tr>\n",
       "<tr>\n",
       "  <th>Method:</th>             <td>Least Squares</td>  <th>  F-statistic:       </th> <td>   46.18</td>\n",
       "</tr>\n",
       "<tr>\n",
       "  <th>Date:</th>             <td>Sun, 21 Mar 2021</td> <th>  Prob (F-statistic):</th> <td>2.05e-16</td>\n",
       "</tr>\n",
       "<tr>\n",
       "  <th>Time:</th>                 <td>14:18:25</td>     <th>  Log-Likelihood:    </th> <td> -64.861</td>\n",
       "</tr>\n",
       "<tr>\n",
       "  <th>No. Observations:</th>      <td>    50</td>      <th>  AIC:               </th> <td>   141.7</td>\n",
       "</tr>\n",
       "<tr>\n",
       "  <th>Df Residuals:</th>          <td>    44</td>      <th>  BIC:               </th> <td>   153.2</td>\n",
       "</tr>\n",
       "<tr>\n",
       "  <th>Df Model:</th>              <td>     5</td>      <th>                     </th>     <td> </td>   \n",
       "</tr>\n",
       "<tr>\n",
       "  <th>Covariance Type:</th>      <td>nonrobust</td>    <th>                     </th>     <td> </td>   \n",
       "</tr>\n",
       "</table>\n",
       "<table class=\"simpletable\">\n",
       "<tr>\n",
       "    <td></td>       <th>coef</th>     <th>std err</th>      <th>t</th>      <th>P>|t|</th>  <th>[0.025</th>    <th>0.975]</th>  \n",
       "</tr>\n",
       "<tr>\n",
       "  <th>const</th> <td>    1.8910</td> <td>    0.253</td> <td>    7.472</td> <td> 0.000</td> <td>    1.381</td> <td>    2.401</td>\n",
       "</tr>\n",
       "<tr>\n",
       "  <th>x1</th>    <td>    0.7474</td> <td>    0.368</td> <td>    2.031</td> <td> 0.048</td> <td>    0.006</td> <td>    1.489</td>\n",
       "</tr>\n",
       "<tr>\n",
       "  <th>x2</th>    <td>    0.6585</td> <td>    0.190</td> <td>    3.473</td> <td> 0.001</td> <td>    0.276</td> <td>    1.041</td>\n",
       "</tr>\n",
       "<tr>\n",
       "  <th>x3</th>    <td>    0.1705</td> <td>    0.169</td> <td>    1.008</td> <td> 0.319</td> <td>   -0.170</td> <td>    0.511</td>\n",
       "</tr>\n",
       "<tr>\n",
       "  <th>x4</th>    <td>   -0.0214</td> <td>    0.024</td> <td>   -0.887</td> <td> 0.380</td> <td>   -0.070</td> <td>    0.027</td>\n",
       "</tr>\n",
       "<tr>\n",
       "  <th>x5</th>    <td>   -0.0201</td> <td>    0.017</td> <td>   -1.176</td> <td> 0.246</td> <td>   -0.055</td> <td>    0.014</td>\n",
       "</tr>\n",
       "</table>\n",
       "<table class=\"simpletable\">\n",
       "<tr>\n",
       "  <th>Omnibus:</th>       <td> 1.476</td> <th>  Durbin-Watson:     </th> <td>   2.081</td>\n",
       "</tr>\n",
       "<tr>\n",
       "  <th>Prob(Omnibus):</th> <td> 0.478</td> <th>  Jarque-Bera (JB):  </th> <td>   1.397</td>\n",
       "</tr>\n",
       "<tr>\n",
       "  <th>Skew:</th>          <td>-0.386</td> <th>  Prob(JB):          </th> <td>   0.497</td>\n",
       "</tr>\n",
       "<tr>\n",
       "  <th>Kurtosis:</th>      <td> 2.724</td> <th>  Cond. No.          </th> <td>    217.</td>\n",
       "</tr>\n",
       "</table><br/><br/>Notes:<br/>[1] Standard Errors assume that the covariance matrix of the errors is correctly specified."
      ],
      "text/plain": [
       "<class 'statsmodels.iolib.summary.Summary'>\n",
       "\"\"\"\n",
       "                            OLS Regression Results                            \n",
       "==============================================================================\n",
       "Dep. Variable:                      y   R-squared:                       0.840\n",
       "Model:                            OLS   Adj. R-squared:                  0.822\n",
       "Method:                 Least Squares   F-statistic:                     46.18\n",
       "Date:                Sun, 21 Mar 2021   Prob (F-statistic):           2.05e-16\n",
       "Time:                        14:18:25   Log-Likelihood:                -64.861\n",
       "No. Observations:                  50   AIC:                             141.7\n",
       "Df Residuals:                      44   BIC:                             153.2\n",
       "Df Model:                           5                                         \n",
       "Covariance Type:            nonrobust                                         \n",
       "==============================================================================\n",
       "                 coef    std err          t      P>|t|      [0.025      0.975]\n",
       "------------------------------------------------------------------------------\n",
       "const          1.8910      0.253      7.472      0.000       1.381       2.401\n",
       "x1             0.7474      0.368      2.031      0.048       0.006       1.489\n",
       "x2             0.6585      0.190      3.473      0.001       0.276       1.041\n",
       "x3             0.1705      0.169      1.008      0.319      -0.170       0.511\n",
       "x4            -0.0214      0.024     -0.887      0.380      -0.070       0.027\n",
       "x5            -0.0201      0.017     -1.176      0.246      -0.055       0.014\n",
       "==============================================================================\n",
       "Omnibus:                        1.476   Durbin-Watson:                   2.081\n",
       "Prob(Omnibus):                  0.478   Jarque-Bera (JB):                1.397\n",
       "Skew:                          -0.386   Prob(JB):                        0.497\n",
       "Kurtosis:                       2.724   Cond. No.                         217.\n",
       "==============================================================================\n",
       "\n",
       "Notes:\n",
       "[1] Standard Errors assume that the covariance matrix of the errors is correctly specified.\n",
       "\"\"\""
      ]
     },
     "execution_count": 18,
     "metadata": {},
     "output_type": "execute_result"
    }
   ],
   "source": [
    "results.summary()"
   ]
  },
  {
   "cell_type": "markdown",
   "metadata": {},
   "source": [
    "**Atividade:**\n",
    "\n",
    "Experimente com diferentes valores para o grau do polinômio: 1, 2, 5, 10. Relate o que você observou"
   ]
  },
  {
   "cell_type": "markdown",
   "metadata": {},
   "source": [
    "**R:**"
   ]
  },
  {
   "cell_type": "code",
   "execution_count": null,
   "metadata": {},
   "outputs": [],
   "source": []
  }
 ],
 "metadata": {
  "kernelspec": {
   "display_name": "Python 3",
   "language": "python",
   "name": "python3"
  },
  "language_info": {
   "codemirror_mode": {
    "name": "ipython",
    "version": 3
   },
   "file_extension": ".py",
   "mimetype": "text/x-python",
   "name": "python",
   "nbconvert_exporter": "python",
   "pygments_lexer": "ipython3",
   "version": "3.8.8"
  },
  "toc-autonumbering": false,
  "toc-showcode": false
 },
 "nbformat": 4,
 "nbformat_minor": 4
}
